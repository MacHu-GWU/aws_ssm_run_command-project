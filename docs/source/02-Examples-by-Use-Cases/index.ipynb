{
 "cells": [
  {
   "cell_type": "markdown",
   "id": "31a22e04-8f46-44b4-aac9-a94abe3d8fef",
   "metadata": {
    "editable": true,
    "raw_mimetype": "text/restructuredtext",
    "slideshow": {
     "slide_type": ""
    },
    "tags": []
   },
   "source": [
    "# Examples by Use Case\n",
    "\n",
    "本文将详细介绍如何使用 ``aws_ssm_run_command`` 库来实现各种常见的 Use Cases."
   ]
  },
  {
   "cell_type": "markdown",
   "id": "2c56a8b91037bac4",
   "metadata": {
    "collapsed": false,
    "editable": true,
    "jupyter": {
     "outputs_hidden": false
    },
    "slideshow": {
     "slide_type": ""
    },
    "tags": []
   },
   "source": [
    "## Prepare"
   ]
  },
  {
   "cell_type": "raw",
   "id": "da0d74b0-0352-4832-be6c-cd6e9432e8c3",
   "metadata": {
    "collapsed": false,
    "editable": true,
    "jupyter": {
     "outputs_hidden": false
    },
    "raw_mimetype": "text/restructuredtext",
    "slideshow": {
     "slide_type": ""
    },
    "tags": []
   },
   "source": [
    "First, let's create a boto session and then launch an EC2 instance for testing. Make sure this EC2 meet the pre-requisite mentioned in the :ref:`how-it-work` section.\n",
    "\n",
    "Then we are going to define some helper functions for this example."
   ]
  },
  {
   "cell_type": "code",
   "execution_count": 3,
   "id": "0703bc8f-18b7-41df-b25d-f7ff55a951c3",
   "metadata": {
    "ExecuteTime": {
     "end_time": "2024-06-18T03:40:55.488459Z",
     "start_time": "2024-06-18T03:40:55.176936Z"
    },
    "editable": true,
    "slideshow": {
     "slide_type": ""
    },
    "tags": []
   },
   "outputs": [],
   "source": [
    "import uuid\n",
    "import json\n",
    "from pathlib import Path\n",
    "\n",
    "from rich import print as rprint\n",
    "from boto_session_manager import BotoSesManager\n",
    "from s3pathlib import S3Path, context\n",
    "\n",
    "import aws_ssm_run_command.api as aws_ssm_run_command\n",
    "\n",
    "# set boto session\n",
    "bsm = BotoSesManager(profile_name=\"bmt_app_dev_us_east_1\")\n",
    "# set two instance ids\n",
    "inst_id_1 = \"i-00d17e6620f53ea14\"\n",
    "inst_id_2 = \"i-04263cc722e9b0ac3\"\n",
    "# set an S3 bucket location for storing the output\n",
    "s3dir = S3Path(f\"s3://{bsm.aws_account_alias}-{bsm.aws_region}-data/projects/aws_ssm_run_command/example/\")\n",
    "# set the current working directory\n",
    "dir_here = Path.cwd().absolute()\n",
    "# tell s3pathlib to use the given boto session\n",
    "context.attach_boto_session(bsm.boto_ses)"
   ]
  },
  {
   "cell_type": "code",
   "execution_count": 4,
   "id": "3ca0492cdb19d021",
   "metadata": {
    "ExecuteTime": {
     "end_time": "2024-06-18T03:40:56.025733Z",
     "start_time": "2024-06-18T03:40:56.020968Z"
    },
    "collapsed": false,
    "editable": true,
    "jupyter": {
     "outputs_hidden": false
    },
    "slideshow": {
     "slide_type": ""
    },
    "tags": []
   },
   "outputs": [],
   "source": [
    "def rprint_response(res):\n",
    "    \"\"\"\n",
    "    A helper function to print the response of boto3 API.\n",
    "    \"\"\"\n",
    "    if \"ResponseMetadata\" in res:\n",
    "        del res[\"ResponseMetadata\"]\n",
    "    rprint(res)\n",
    "    \n",
    "def s3url_to_s3uri(url: str) -> str:\n",
    "    \"\"\"\n",
    "    Convert https://s3.amazonaws.com/bucket/key to s3://bucket/key \n",
    "    \"\"\"\n",
    "    return \"s3://\" + url.split(\"/\", 3)[-1]"
   ]
  },
  {
   "cell_type": "raw",
   "id": "6f789101-71e4-4769-a54a-47db86bc656c",
   "metadata": {
    "collapsed": false,
    "editable": true,
    "jupyter": {
     "outputs_hidden": false
    },
    "raw_mimetype": "text/restructuredtext",
    "slideshow": {
     "slide_type": ""
    },
    "tags": []
   },
   "source": [
    ".. _use-case-1:\n",
    "\n",
    "Use Case 1. Send one command to one EC2 instance\n",
    "--------------------------------------------------------------------------------\n",
    "这是一个最简单的例子, 我们只将一条简单的 ``echo \"random-uuid\" > ~/uuid.txt`` 命令发送到一台 EC2 上. 运行之后, 我们再用 ``cat ~/uuid.txt`` 命令打印这个文件的内容. 这里最关键的函数是 :func:`~aws_ssm_run_command.better_boto.run_shell_script.run_shell_script_sync`, 它是对 `boto3.client(\"ssm\").send_command() <https://boto3.amazonaws.com/v1/documentation/api/latest/reference/services/ssm/client/send_command.html>`_ 和 `boto3.client(\"ssm\").get_command_invocation() <https://boto3.amazonaws.com/v1/documentation/api/latest/reference/services/ssm/client/get_command_invocation.html>`_ 的封装. 它会发送一个命令, 然后等待命令执行完毕. 它返回命令执行的详细信息. 该函数会返回一个 :class:`~aws_ssm_run_command.better_boto.response.CommandInvocation` 对象, 你可以从这个对象中获取 return code, stdout, stderr 等信息.\n",
    "\n",
    "如果你想将发送命令和等待分开进行, 你也可以用 :func:`~aws_ssm_run_command.better_boto.run_shell_script.run_shell_script_async` 和 :func:`~aws_ssm_run_command.better_boto.waiters.wait_until_send_command_succeeded` 来实现, 不过这里我们就不展示了."
   ]
  },
  {
   "cell_type": "code",
   "execution_count": 37,
   "id": "f2670d907d5a0a27",
   "metadata": {
    "ExecuteTime": {
     "end_time": "2024-06-18T03:05:14.884467Z",
     "start_time": "2024-06-18T03:05:14.873969Z"
    },
    "collapsed": false,
    "editable": true,
    "jupyter": {
     "outputs_hidden": false
    },
    "slideshow": {
     "slide_type": ""
    },
    "tags": []
   },
   "outputs": [
    {
     "name": "stdout",
     "output_type": "stream",
     "text": [
      "--- uuid value ---\n"
     ]
    },
    {
     "data": {
      "text/html": [
       "<pre style=\"white-space:pre;overflow-x:auto;line-height:normal;font-family:Menlo,'DejaVu Sans Mono',consolas,'Courier New',monospace\"><span style=\"color: #ffff00; text-decoration-color: #ffff00\">4441c17d-08a0-4156-b6ef-13364fbeb4e6</span>\n",
       "</pre>\n"
      ],
      "text/plain": [
       "\u001b[93m4441c17d-08a0-4156-b6ef-13364fbeb4e6\u001b[0m\n"
      ]
     },
     "metadata": {},
     "output_type": "display_data"
    },
    {
     "name": "stdout",
     "output_type": "stream",
     "text": [
      "--- command ---\n"
     ]
    },
    {
     "data": {
      "text/html": [
       "<pre style=\"white-space:pre;overflow-x:auto;line-height:normal;font-family:Menlo,'DejaVu Sans Mono',consolas,'Courier New',monospace\">echo <span style=\"color: #ffff00; text-decoration-color: #ffff00\">4441c17d-08a0-4156-b6ef-13364fbeb4e6</span> &gt; ~<span style=\"color: #800080; text-decoration-color: #800080\">/</span><span style=\"color: #ff00ff; text-decoration-color: #ff00ff\">uuid.txt</span>\n",
       "</pre>\n"
      ],
      "text/plain": [
       "echo \u001b[93m4441c17d-08a0-4156-b6ef-13364fbeb4e6\u001b[0m > ~\u001b[35m/\u001b[0m\u001b[95muuid.txt\u001b[0m\n"
      ]
     },
     "metadata": {},
     "output_type": "display_data"
    }
   ],
   "source": [
    "value = uuid.uuid4()\n",
    "cmd = f\"echo {value} > ~/uuid.txt\"\n",
    "print(\"--- uuid value ---\")\n",
    "rprint(value)\n",
    "\n",
    "print(\"--- command ---\")\n",
    "rprint(cmd)"
   ]
  },
  {
   "cell_type": "code",
   "execution_count": 6,
   "id": "9429e5a94ad6105e",
   "metadata": {
    "ExecuteTime": {
     "end_time": "2024-06-18T03:05:26.689289Z",
     "start_time": "2024-06-18T03:05:25.440239Z"
    },
    "collapsed": false,
    "editable": true,
    "jupyter": {
     "outputs_hidden": false
    },
    "slideshow": {
     "slide_type": ""
    },
    "tags": []
   },
   "outputs": [
    {
     "name": "stdout",
     "output_type": "stream",
     "text": [
      "--- send command and wait it to succeed ---\n",
      "start waiter, polling every 3 seconds, timeout in 60 seconds.\n",
      "on 0 th attempt, elapsed 0 seconds, remain 60 seconds ...\n"
     ]
    }
   ],
   "source": [
    "print(\"--- send command and wait it to succeed ---\")\n",
    "command_invocations = aws_ssm_run_command.better_boto.run_shell_script_sync(\n",
    "    ssm_client=bsm.ssm_client,\n",
    "    commands=cmd,\n",
    "    instance_ids=inst_id_1,\n",
    ")"
   ]
  },
  {
   "cell_type": "code",
   "execution_count": 7,
   "id": "8a693bdbb37835b1",
   "metadata": {
    "ExecuteTime": {
     "end_time": "2024-06-18T03:05:28.930461Z",
     "start_time": "2024-06-18T03:05:28.923324Z"
    },
    "collapsed": false,
    "editable": true,
    "jupyter": {
     "outputs_hidden": false
    },
    "slideshow": {
     "slide_type": ""
    },
    "tags": []
   },
   "outputs": [
    {
     "name": "stdout",
     "output_type": "stream",
     "text": [
      "--- command invocation details ---\n"
     ]
    },
    {
     "data": {
      "text/html": [
       "<pre style=\"white-space:pre;overflow-x:auto;line-height:normal;font-family:Menlo,'DejaVu Sans Mono',consolas,'Courier New',monospace\"><span style=\"font-weight: bold\">[</span>\n",
       "    <span style=\"color: #800080; text-decoration-color: #800080; font-weight: bold\">CommandInvocation</span><span style=\"font-weight: bold\">(</span>\n",
       "        <span style=\"color: #808000; text-decoration-color: #808000\">CommandId</span>=<span style=\"color: #008000; text-decoration-color: #008000\">'599ed08c-45c3-4267-ade3-df3712dcc024'</span>,\n",
       "        <span style=\"color: #808000; text-decoration-color: #808000\">InstanceId</span>=<span style=\"color: #008000; text-decoration-color: #008000\">'i-00d17e6620f53ea14'</span>,\n",
       "        <span style=\"color: #808000; text-decoration-color: #808000\">Comment</span>=<span style=\"color: #008000; text-decoration-color: #008000\">''</span>,\n",
       "        <span style=\"color: #808000; text-decoration-color: #808000\">DocumentName</span>=<span style=\"color: #008000; text-decoration-color: #008000\">'AWS-RunShellScript'</span>,\n",
       "        <span style=\"color: #808000; text-decoration-color: #808000\">DocumentVersion</span>=<span style=\"color: #008000; text-decoration-color: #008000\">'1'</span>,\n",
       "        <span style=\"color: #808000; text-decoration-color: #808000\">PluginName</span>=<span style=\"color: #008000; text-decoration-color: #008000\">'aws:runShellScript'</span>,\n",
       "        <span style=\"color: #808000; text-decoration-color: #808000\">ResponseCode</span>=<span style=\"color: #008080; text-decoration-color: #008080; font-weight: bold\">0</span>,\n",
       "        <span style=\"color: #808000; text-decoration-color: #808000\">ExecutionStartDateTime</span>=<span style=\"color: #008000; text-decoration-color: #008000\">'2024-06-18T03:53:38.143Z'</span>,\n",
       "        <span style=\"color: #808000; text-decoration-color: #808000\">ExecutionElapsedTime</span>=<span style=\"color: #008000; text-decoration-color: #008000\">'PT0.006S'</span>,\n",
       "        <span style=\"color: #808000; text-decoration-color: #808000\">ExecutionEndDateTime</span>=<span style=\"color: #008000; text-decoration-color: #008000\">'2024-06-18T03:53:38.143Z'</span>,\n",
       "        <span style=\"color: #808000; text-decoration-color: #808000\">Status</span>=<span style=\"color: #008000; text-decoration-color: #008000\">'Success'</span>,\n",
       "        <span style=\"color: #808000; text-decoration-color: #808000\">StatusDetails</span>=<span style=\"color: #008000; text-decoration-color: #008000\">'Success'</span>,\n",
       "        <span style=\"color: #808000; text-decoration-color: #808000\">StandardOutputContent</span>=<span style=\"color: #008000; text-decoration-color: #008000\">''</span>,\n",
       "        <span style=\"color: #808000; text-decoration-color: #808000\">StandardOutputUrl</span>=<span style=\"color: #008000; text-decoration-color: #008000\">''</span>,\n",
       "        <span style=\"color: #808000; text-decoration-color: #808000\">StandardErrorContent</span>=<span style=\"color: #008000; text-decoration-color: #008000\">''</span>,\n",
       "        <span style=\"color: #808000; text-decoration-color: #808000\">StandardErrorUrl</span>=<span style=\"color: #008000; text-decoration-color: #008000\">''</span>,\n",
       "        <span style=\"color: #808000; text-decoration-color: #808000\">CloudWatchOutputConfig</span>=<span style=\"font-weight: bold\">{</span><span style=\"color: #008000; text-decoration-color: #008000\">'CloudWatchLogGroupName'</span>: <span style=\"color: #008000; text-decoration-color: #008000\">''</span>, <span style=\"color: #008000; text-decoration-color: #008000\">'CloudWatchOutputEnabled'</span>: <span style=\"color: #ff0000; text-decoration-color: #ff0000; font-style: italic\">False</span><span style=\"font-weight: bold\">}</span>\n",
       "    <span style=\"font-weight: bold\">)</span>\n",
       "<span style=\"font-weight: bold\">]</span>\n",
       "</pre>\n"
      ],
      "text/plain": [
       "\u001b[1m[\u001b[0m\n",
       "    \u001b[1;35mCommandInvocation\u001b[0m\u001b[1m(\u001b[0m\n",
       "        \u001b[33mCommandId\u001b[0m=\u001b[32m'599ed08c-45c3-4267-ade3-df3712dcc024'\u001b[0m,\n",
       "        \u001b[33mInstanceId\u001b[0m=\u001b[32m'i-00d17e6620f53ea14'\u001b[0m,\n",
       "        \u001b[33mComment\u001b[0m=\u001b[32m''\u001b[0m,\n",
       "        \u001b[33mDocumentName\u001b[0m=\u001b[32m'AWS-RunShellScript'\u001b[0m,\n",
       "        \u001b[33mDocumentVersion\u001b[0m=\u001b[32m'1'\u001b[0m,\n",
       "        \u001b[33mPluginName\u001b[0m=\u001b[32m'aws:runShellScript'\u001b[0m,\n",
       "        \u001b[33mResponseCode\u001b[0m=\u001b[1;36m0\u001b[0m,\n",
       "        \u001b[33mExecutionStartDateTime\u001b[0m=\u001b[32m'2024-06-18T03:53:38.143Z'\u001b[0m,\n",
       "        \u001b[33mExecutionElapsedTime\u001b[0m=\u001b[32m'PT0.006S'\u001b[0m,\n",
       "        \u001b[33mExecutionEndDateTime\u001b[0m=\u001b[32m'2024-06-18T03:53:38.143Z'\u001b[0m,\n",
       "        \u001b[33mStatus\u001b[0m=\u001b[32m'Success'\u001b[0m,\n",
       "        \u001b[33mStatusDetails\u001b[0m=\u001b[32m'Success'\u001b[0m,\n",
       "        \u001b[33mStandardOutputContent\u001b[0m=\u001b[32m''\u001b[0m,\n",
       "        \u001b[33mStandardOutputUrl\u001b[0m=\u001b[32m''\u001b[0m,\n",
       "        \u001b[33mStandardErrorContent\u001b[0m=\u001b[32m''\u001b[0m,\n",
       "        \u001b[33mStandardErrorUrl\u001b[0m=\u001b[32m''\u001b[0m,\n",
       "        \u001b[33mCloudWatchOutputConfig\u001b[0m=\u001b[1m{\u001b[0m\u001b[32m'CloudWatchLogGroupName'\u001b[0m: \u001b[32m''\u001b[0m, \u001b[32m'CloudWatchOutputEnabled'\u001b[0m: \u001b[3;91mFalse\u001b[0m\u001b[1m}\u001b[0m\n",
       "    \u001b[1m)\u001b[0m\n",
       "\u001b[1m]\u001b[0m\n"
      ]
     },
     "metadata": {},
     "output_type": "display_data"
    }
   ],
   "source": [
    "print(\"--- command invocation details ---\")\n",
    "rprint(command_invocations)"
   ]
  },
  {
   "cell_type": "code",
   "execution_count": 8,
   "id": "62cdb11dae0d15c",
   "metadata": {
    "ExecuteTime": {
     "end_time": "2024-06-18T03:06:02.348569Z",
     "start_time": "2024-06-18T03:06:01.070898Z"
    },
    "collapsed": false,
    "editable": true,
    "jupyter": {
     "outputs_hidden": false
    },
    "slideshow": {
     "slide_type": ""
    },
    "tags": []
   },
   "outputs": [
    {
     "name": "stdout",
     "output_type": "stream",
     "text": [
      "--- send another command and wait it to succeed ---\n"
     ]
    },
    {
     "data": {
      "text/html": [
       "<pre style=\"white-space:pre;overflow-x:auto;line-height:normal;font-family:Menlo,'DejaVu Sans Mono',consolas,'Courier New',monospace\">cat ~<span style=\"color: #800080; text-decoration-color: #800080\">/</span><span style=\"color: #ff00ff; text-decoration-color: #ff00ff\">uuid.txt</span>\n",
       "</pre>\n"
      ],
      "text/plain": [
       "cat ~\u001b[35m/\u001b[0m\u001b[95muuid.txt\u001b[0m\n"
      ]
     },
     "metadata": {},
     "output_type": "display_data"
    },
    {
     "name": "stdout",
     "output_type": "stream",
     "text": [
      "start waiter, polling every 3 seconds, timeout in 60 seconds.\n",
      "on 0 th attempt, elapsed 0 seconds, remain 60 seconds ...\n"
     ]
    }
   ],
   "source": [
    "print(\"--- send another command and wait it to succeed ---\")\n",
    "cmd = \"cat ~/uuid.txt\"\n",
    "rprint(cmd)\n",
    "command_invocations = aws_ssm_run_command.better_boto.run_shell_script_sync(\n",
    "    ssm_client=bsm.ssm_client,\n",
    "    commands=cmd,\n",
    "    instance_ids=inst_id_1,\n",
    ")"
   ]
  },
  {
   "cell_type": "code",
   "execution_count": 9,
   "id": "b0c1517d94ea38fa",
   "metadata": {
    "ExecuteTime": {
     "end_time": "2024-06-18T03:06:56.815249Z",
     "start_time": "2024-06-18T03:06:56.808183Z"
    },
    "collapsed": false,
    "editable": true,
    "jupyter": {
     "outputs_hidden": false
    },
    "slideshow": {
     "slide_type": ""
    },
    "tags": []
   },
   "outputs": [
    {
     "name": "stdout",
     "output_type": "stream",
     "text": [
      "--- stdout ---\n"
     ]
    },
    {
     "data": {
      "text/html": [
       "<pre style=\"white-space:pre;overflow-x:auto;line-height:normal;font-family:Menlo,'DejaVu Sans Mono',consolas,'Courier New',monospace\">stdout = <span style=\"color: #ffff00; text-decoration-color: #ffff00\">f2266cf8-96ed-46b3-a07f-2eff5c6a1d85</span>, uuid = <span style=\"color: #ffff00; text-decoration-color: #ffff00\">f2266cf8-96ed-46b3-a07f-2eff5c6a1d85</span>\n",
       "</pre>\n"
      ],
      "text/plain": [
       "stdout = \u001b[93mf2266cf8-96ed-46b3-a07f-2eff5c6a1d85\u001b[0m, uuid = \u001b[93mf2266cf8-96ed-46b3-a07f-2eff5c6a1d85\u001b[0m\n"
      ]
     },
     "metadata": {},
     "output_type": "display_data"
    }
   ],
   "source": [
    "print(\"--- stdout ---\")\n",
    "stdout = command_invocations[0].StandardOutputContent.strip()\n",
    "rprint(f\"stdout = {stdout}, uuid = {value}\")"
   ]
  },
  {
   "cell_type": "raw",
   "id": "fa224040-3779-45a4-bab8-a5149198bf7b",
   "metadata": {
    "collapsed": false,
    "editable": true,
    "jupyter": {
     "outputs_hidden": false
    },
    "raw_mimetype": "text/restructuredtext",
    "slideshow": {
     "slide_type": ""
    },
    "tags": []
   },
   "source": [
    ".. _use-case-2:\n",
    "\n",
    "Use Case 2. Get Return Code, stdout, stderr\n",
    "--------------------------------------------------------------------------------\n",
    "任何一条 Command 都会返回一个 `return code <https://www.gnu.org/software/bash/manual/html_node/Exit-Status.html>`_, 通常 0 表示成功, 非 0 表示失败. 如果成功, 命令可能会打印一些信息到 `stdout <https://en.wikipedia.org/wiki/Standard_streams>`_, 例如 ``python --version`` 会打印版本号. 如果失败, 命令可能会打印一些信息到 stderr. 例如你运行 ``python my_script.py`` 中抛出了异常信息. 对于关键的业务场景, 我们通常不能仅仅把命令发出去就不管了, 而要对 return code, stdout, stderr 进行处理. 下面我们来看看如何获取这些信息. \n",
    "\n",
    "这里我们先快速介绍一下 Python 中 subprocess 模块中的 `CompletedProcess <https://docs.python.org/3/library/subprocess.html#subprocess.CompletedProcess>`_ 对象. `subprocess <https://docs.python.org/3/library/subprocess.html>`_ 是 Python 中用来运行命令行的模块. 每个 `subprocess.run() <https://docs.python.org/3/library/subprocess.html#subprocess.run>`_ 都会返回一个 `CompletedProcess <https://docs.python.org/3/library/subprocess.html#subprocess.CompletedProcess>`_, 你可以从这个对象中获得 return code, stdout, stderr. \n",
    "\n",
    "而 `boto3.client(\"ssm\").get_command_invocation() <https://boto3.amazonaws.com/v1/documentation/api/latest/reference/services/ssm/client/get_command_invocation.html>`_ API 的 response 中有 ``ResponseCode``, ``StandardOutputContent``, ``StandardErrorContent`` 字段, 分别对应 return code, stdout, stderr.\n",
    "\n",
    "其实在 :ref:`use-case-1` 的例子中我们已经展示了如何获得这些信息. 这里再来看一个非常简单的例子."
   ]
  },
  {
   "cell_type": "code",
   "execution_count": 10,
   "id": "b8da424509520840",
   "metadata": {
    "ExecuteTime": {
     "end_time": "2024-06-18T03:07:08.915261Z",
     "start_time": "2024-06-18T03:07:08.908761Z"
    },
    "collapsed": false,
    "editable": true,
    "jupyter": {
     "outputs_hidden": false
    },
    "slideshow": {
     "slide_type": ""
    },
    "tags": []
   },
   "outputs": [
    {
     "name": "stdout",
     "output_type": "stream",
     "text": [
      "--- command ---\n"
     ]
    },
    {
     "data": {
      "text/html": [
       "<pre style=\"white-space:pre;overflow-x:auto;line-height:normal;font-family:Menlo,'DejaVu Sans Mono',consolas,'Courier New',monospace\">python3 --version\n",
       "</pre>\n"
      ],
      "text/plain": [
       "python3 --version\n"
      ]
     },
     "metadata": {},
     "output_type": "display_data"
    }
   ],
   "source": [
    "print(\"--- command ---\")\n",
    "cmd = \"python3 --version\"\n",
    "rprint(cmd)"
   ]
  },
  {
   "cell_type": "code",
   "execution_count": 11,
   "id": "4676f1cb0a26f735",
   "metadata": {
    "ExecuteTime": {
     "end_time": "2024-06-18T03:07:15.726638Z",
     "start_time": "2024-06-18T03:07:14.451810Z"
    },
    "collapsed": false,
    "editable": true,
    "jupyter": {
     "outputs_hidden": false
    },
    "slideshow": {
     "slide_type": ""
    },
    "tags": []
   },
   "outputs": [
    {
     "name": "stdout",
     "output_type": "stream",
     "text": [
      "--- send command and wait it to succeed ---\n",
      "start waiter, polling every 3 seconds, timeout in 60 seconds.\n",
      "on 0 th attempt, elapsed 0 seconds, remain 60 seconds ...\n"
     ]
    }
   ],
   "source": [
    "print(\"--- send command and wait it to succeed ---\")\n",
    "command_invocations = aws_ssm_run_command.better_boto.run_shell_script_sync(\n",
    "    ssm_client=bsm.ssm_client,\n",
    "    commands=cmd,\n",
    "    instance_ids=inst_id_1,\n",
    ")"
   ]
  },
  {
   "cell_type": "code",
   "execution_count": 12,
   "id": "38a2eea5db13c86e",
   "metadata": {
    "ExecuteTime": {
     "end_time": "2024-06-18T03:07:18.434712Z",
     "start_time": "2024-06-18T03:07:18.429110Z"
    },
    "collapsed": false,
    "editable": true,
    "jupyter": {
     "outputs_hidden": false
    },
    "slideshow": {
     "slide_type": ""
    },
    "tags": []
   },
   "outputs": [
    {
     "name": "stdout",
     "output_type": "stream",
     "text": [
      "--- command invocation details ---\n"
     ]
    },
    {
     "data": {
      "text/html": [
       "<pre style=\"white-space:pre;overflow-x:auto;line-height:normal;font-family:Menlo,'DejaVu Sans Mono',consolas,'Courier New',monospace\"><span style=\"font-weight: bold\">[</span>\n",
       "    <span style=\"color: #800080; text-decoration-color: #800080; font-weight: bold\">CommandInvocation</span><span style=\"font-weight: bold\">(</span>\n",
       "        <span style=\"color: #808000; text-decoration-color: #808000\">CommandId</span>=<span style=\"color: #008000; text-decoration-color: #008000\">'ebf0307f-a271-4118-9a3b-265a8fb4b75d'</span>,\n",
       "        <span style=\"color: #808000; text-decoration-color: #808000\">InstanceId</span>=<span style=\"color: #008000; text-decoration-color: #008000\">'i-00d17e6620f53ea14'</span>,\n",
       "        <span style=\"color: #808000; text-decoration-color: #808000\">Comment</span>=<span style=\"color: #008000; text-decoration-color: #008000\">''</span>,\n",
       "        <span style=\"color: #808000; text-decoration-color: #808000\">DocumentName</span>=<span style=\"color: #008000; text-decoration-color: #008000\">'AWS-RunShellScript'</span>,\n",
       "        <span style=\"color: #808000; text-decoration-color: #808000\">DocumentVersion</span>=<span style=\"color: #008000; text-decoration-color: #008000\">'1'</span>,\n",
       "        <span style=\"color: #808000; text-decoration-color: #808000\">PluginName</span>=<span style=\"color: #008000; text-decoration-color: #008000\">'aws:runShellScript'</span>,\n",
       "        <span style=\"color: #808000; text-decoration-color: #808000\">ResponseCode</span>=<span style=\"color: #008080; text-decoration-color: #008080; font-weight: bold\">0</span>,\n",
       "        <span style=\"color: #808000; text-decoration-color: #808000\">ExecutionStartDateTime</span>=<span style=\"color: #008000; text-decoration-color: #008000\">'2024-06-18T03:53:40.564Z'</span>,\n",
       "        <span style=\"color: #808000; text-decoration-color: #808000\">ExecutionElapsedTime</span>=<span style=\"color: #008000; text-decoration-color: #008000\">'PT0.006S'</span>,\n",
       "        <span style=\"color: #808000; text-decoration-color: #808000\">ExecutionEndDateTime</span>=<span style=\"color: #008000; text-decoration-color: #008000\">'2024-06-18T03:53:40.564Z'</span>,\n",
       "        <span style=\"color: #808000; text-decoration-color: #808000\">Status</span>=<span style=\"color: #008000; text-decoration-color: #008000\">'Success'</span>,\n",
       "        <span style=\"color: #808000; text-decoration-color: #808000\">StatusDetails</span>=<span style=\"color: #008000; text-decoration-color: #008000\">'Success'</span>,\n",
       "        <span style=\"color: #808000; text-decoration-color: #808000\">StandardOutputContent</span>=<span style=\"color: #008000; text-decoration-color: #008000\">'Python 3.9.16\\n'</span>,\n",
       "        <span style=\"color: #808000; text-decoration-color: #808000\">StandardOutputUrl</span>=<span style=\"color: #008000; text-decoration-color: #008000\">''</span>,\n",
       "        <span style=\"color: #808000; text-decoration-color: #808000\">StandardErrorContent</span>=<span style=\"color: #008000; text-decoration-color: #008000\">''</span>,\n",
       "        <span style=\"color: #808000; text-decoration-color: #808000\">StandardErrorUrl</span>=<span style=\"color: #008000; text-decoration-color: #008000\">''</span>,\n",
       "        <span style=\"color: #808000; text-decoration-color: #808000\">CloudWatchOutputConfig</span>=<span style=\"font-weight: bold\">{</span><span style=\"color: #008000; text-decoration-color: #008000\">'CloudWatchLogGroupName'</span>: <span style=\"color: #008000; text-decoration-color: #008000\">''</span>, <span style=\"color: #008000; text-decoration-color: #008000\">'CloudWatchOutputEnabled'</span>: <span style=\"color: #ff0000; text-decoration-color: #ff0000; font-style: italic\">False</span><span style=\"font-weight: bold\">}</span>\n",
       "    <span style=\"font-weight: bold\">)</span>\n",
       "<span style=\"font-weight: bold\">]</span>\n",
       "</pre>\n"
      ],
      "text/plain": [
       "\u001b[1m[\u001b[0m\n",
       "    \u001b[1;35mCommandInvocation\u001b[0m\u001b[1m(\u001b[0m\n",
       "        \u001b[33mCommandId\u001b[0m=\u001b[32m'ebf0307f-a271-4118-9a3b-265a8fb4b75d'\u001b[0m,\n",
       "        \u001b[33mInstanceId\u001b[0m=\u001b[32m'i-00d17e6620f53ea14'\u001b[0m,\n",
       "        \u001b[33mComment\u001b[0m=\u001b[32m''\u001b[0m,\n",
       "        \u001b[33mDocumentName\u001b[0m=\u001b[32m'AWS-RunShellScript'\u001b[0m,\n",
       "        \u001b[33mDocumentVersion\u001b[0m=\u001b[32m'1'\u001b[0m,\n",
       "        \u001b[33mPluginName\u001b[0m=\u001b[32m'aws:runShellScript'\u001b[0m,\n",
       "        \u001b[33mResponseCode\u001b[0m=\u001b[1;36m0\u001b[0m,\n",
       "        \u001b[33mExecutionStartDateTime\u001b[0m=\u001b[32m'2024-06-18T03:53:40.564Z'\u001b[0m,\n",
       "        \u001b[33mExecutionElapsedTime\u001b[0m=\u001b[32m'PT0.006S'\u001b[0m,\n",
       "        \u001b[33mExecutionEndDateTime\u001b[0m=\u001b[32m'2024-06-18T03:53:40.564Z'\u001b[0m,\n",
       "        \u001b[33mStatus\u001b[0m=\u001b[32m'Success'\u001b[0m,\n",
       "        \u001b[33mStatusDetails\u001b[0m=\u001b[32m'Success'\u001b[0m,\n",
       "        \u001b[33mStandardOutputContent\u001b[0m=\u001b[32m'Python 3.9.16\\n'\u001b[0m,\n",
       "        \u001b[33mStandardOutputUrl\u001b[0m=\u001b[32m''\u001b[0m,\n",
       "        \u001b[33mStandardErrorContent\u001b[0m=\u001b[32m''\u001b[0m,\n",
       "        \u001b[33mStandardErrorUrl\u001b[0m=\u001b[32m''\u001b[0m,\n",
       "        \u001b[33mCloudWatchOutputConfig\u001b[0m=\u001b[1m{\u001b[0m\u001b[32m'CloudWatchLogGroupName'\u001b[0m: \u001b[32m''\u001b[0m, \u001b[32m'CloudWatchOutputEnabled'\u001b[0m: \u001b[3;91mFalse\u001b[0m\u001b[1m}\u001b[0m\n",
       "    \u001b[1m)\u001b[0m\n",
       "\u001b[1m]\u001b[0m\n"
      ]
     },
     "metadata": {},
     "output_type": "display_data"
    }
   ],
   "source": [
    "print(\"--- command invocation details ---\")\n",
    "rprint(command_invocations)"
   ]
  },
  {
   "cell_type": "code",
   "execution_count": 13,
   "id": "fab158cb29efbfac",
   "metadata": {
    "ExecuteTime": {
     "end_time": "2024-06-18T03:07:22.017810Z",
     "start_time": "2024-06-18T03:07:22.010388Z"
    },
    "collapsed": false,
    "editable": true,
    "jupyter": {
     "outputs_hidden": false
    },
    "slideshow": {
     "slide_type": ""
    },
    "tags": []
   },
   "outputs": [
    {
     "name": "stdout",
     "output_type": "stream",
     "text": [
      "--- stdout ---\n"
     ]
    },
    {
     "data": {
      "text/html": [
       "<pre style=\"white-space:pre;overflow-x:auto;line-height:normal;font-family:Menlo,'DejaVu Sans Mono',consolas,'Courier New',monospace\">Python <span style=\"color: #008080; text-decoration-color: #008080; font-weight: bold\">3.9</span>.<span style=\"color: #008080; text-decoration-color: #008080; font-weight: bold\">16</span>\n",
       "</pre>\n"
      ],
      "text/plain": [
       "Python \u001b[1;36m3.9\u001b[0m.\u001b[1;36m16\u001b[0m\n"
      ]
     },
     "metadata": {},
     "output_type": "display_data"
    }
   ],
   "source": [
    "print(\"--- stdout ---\")\n",
    "rprint(command_invocations[0].StandardOutputContent.strip())"
   ]
  },
  {
   "cell_type": "raw",
   "id": "ad3e7eea-4dd2-4240-b0bd-1ca7b7817fc7",
   "metadata": {
    "collapsed": false,
    "editable": true,
    "jupyter": {
     "outputs_hidden": false
    },
    "raw_mimetype": "text/restructuredtext",
    "slideshow": {
     "slide_type": ""
    },
    "tags": []
   },
   "source": [
    ".. _use-case-3:\n",
    "\n",
    "Use Case 3. Send Large stdout or stderr to AWS S3\n",
    "--------------------------------------------------------------------------------\n",
    "有的时候一个命令的输出内容可能会非常大, 非常复杂, 甚至超过了 SSM 的 24,000 characters 的限制. 做出这个限制是因为 AWS SSM API 本质上是一个 HTTP request, 一般 API 服务器为了避免负载过高, 都会对 response 中的 payload 大小做出限制. 为了解决这个问题, AWS 的 `boto3.client(\"ssm\").send_command() <https://boto3.amazonaws.com/v1/documentation/api/latest/reference/services/ssm/client/send_command.html>`_ API 中有 ``OutputS3BucketName`` 和 ``OutputS3KeyPrefix`` 参数, 可以让你将 stdout 和 stderr 输出到 S3 中. 这样你就可以在 S3 中下载这些内容, 而不是直接从 API response 中获取.\n"
   ]
  },
  {
   "cell_type": "code",
   "execution_count": 14,
   "id": "2530ff309b2f1abf",
   "metadata": {
    "ExecuteTime": {
     "end_time": "2024-06-18T03:07:54.207204Z",
     "start_time": "2024-06-18T03:07:54.005468Z"
    },
    "collapsed": false,
    "editable": true,
    "jupyter": {
     "outputs_hidden": false
    },
    "slideshow": {
     "slide_type": ""
    },
    "tags": []
   },
   "outputs": [
    {
     "data": {
      "text/plain": [
       "S3Path('s3://bmt-app-dev-us-east-1-data/projects/aws_ssm_run_command/example/')"
      ]
     },
     "execution_count": 14,
     "metadata": {},
     "output_type": "execute_result"
    }
   ],
   "source": [
    "# clean up the s3 folder to ensure a fresh start\n",
    "s3dir.delete()"
   ]
  },
  {
   "cell_type": "code",
   "execution_count": 15,
   "id": "f54b7dad4e1b7089",
   "metadata": {
    "ExecuteTime": {
     "end_time": "2024-06-18T03:07:57.206461Z",
     "start_time": "2024-06-18T03:07:57.194132Z"
    },
    "collapsed": false,
    "editable": true,
    "jupyter": {
     "outputs_hidden": false
    },
    "slideshow": {
     "slide_type": ""
    },
    "tags": []
   },
   "outputs": [
    {
     "name": "stdout",
     "output_type": "stream",
     "text": [
      "--- command ---\n"
     ]
    },
    {
     "data": {
      "text/html": [
       "<pre style=\"white-space:pre;overflow-x:auto;line-height:normal;font-family:Menlo,'DejaVu Sans Mono',consolas,'Courier New',monospace\">python3 --version\n",
       "</pre>\n"
      ],
      "text/plain": [
       "python3 --version\n"
      ]
     },
     "metadata": {},
     "output_type": "display_data"
    }
   ],
   "source": [
    "print(\"--- command ---\")\n",
    "cmd = \"python3 --version\"\n",
    "rprint(cmd)"
   ]
  },
  {
   "cell_type": "code",
   "execution_count": 16,
   "id": "c601cd7331a4b38",
   "metadata": {
    "ExecuteTime": {
     "end_time": "2024-06-18T03:08:06.458007Z",
     "start_time": "2024-06-18T03:08:05.094901Z"
    },
    "collapsed": false,
    "editable": true,
    "jupyter": {
     "outputs_hidden": false
    },
    "slideshow": {
     "slide_type": ""
    },
    "tags": []
   },
   "outputs": [
    {
     "name": "stdout",
     "output_type": "stream",
     "text": [
      "--- send command and wait it to succeed ---\n",
      "start waiter, polling every 3 seconds, timeout in 60 seconds.\n",
      "on 0 th attempt, elapsed 0 seconds, remain 60 seconds ...\n"
     ]
    }
   ],
   "source": [
    "print(\"--- send command and wait it to succeed ---\")\n",
    "command_invocations = aws_ssm_run_command.better_boto.run_shell_script_sync(\n",
    "    ssm_client=bsm.ssm_client,\n",
    "    commands=cmd,\n",
    "    instance_ids=inst_id_1,\n",
    "    output_s3_bucket_name=s3dir.bucket,\n",
    "    output_s3_key_prefix=s3dir.key,\n",
    ")"
   ]
  },
  {
   "cell_type": "code",
   "execution_count": 17,
   "id": "484dab0d4a039cfb",
   "metadata": {
    "ExecuteTime": {
     "end_time": "2024-06-18T03:08:29.220939Z",
     "start_time": "2024-06-18T03:08:29.215301Z"
    },
    "collapsed": false,
    "editable": true,
    "jupyter": {
     "outputs_hidden": false
    },
    "slideshow": {
     "slide_type": ""
    },
    "tags": []
   },
   "outputs": [
    {
     "name": "stdout",
     "output_type": "stream",
     "text": [
      "--- command invocation details ---\n"
     ]
    },
    {
     "data": {
      "text/html": [
       "<pre style=\"white-space:pre;overflow-x:auto;line-height:normal;font-family:Menlo,'DejaVu Sans Mono',consolas,'Courier New',monospace\"><span style=\"font-weight: bold\">[</span>\n",
       "    <span style=\"color: #800080; text-decoration-color: #800080; font-weight: bold\">CommandInvocation</span><span style=\"font-weight: bold\">(</span>\n",
       "        <span style=\"color: #808000; text-decoration-color: #808000\">CommandId</span>=<span style=\"color: #008000; text-decoration-color: #008000\">'88f5b32a-365e-4f26-a7d2-c65d48dbfac1'</span>,\n",
       "        <span style=\"color: #808000; text-decoration-color: #808000\">InstanceId</span>=<span style=\"color: #008000; text-decoration-color: #008000\">'i-00d17e6620f53ea14'</span>,\n",
       "        <span style=\"color: #808000; text-decoration-color: #808000\">Comment</span>=<span style=\"color: #008000; text-decoration-color: #008000\">''</span>,\n",
       "        <span style=\"color: #808000; text-decoration-color: #808000\">DocumentName</span>=<span style=\"color: #008000; text-decoration-color: #008000\">'AWS-RunShellScript'</span>,\n",
       "        <span style=\"color: #808000; text-decoration-color: #808000\">DocumentVersion</span>=<span style=\"color: #008000; text-decoration-color: #008000\">'1'</span>,\n",
       "        <span style=\"color: #808000; text-decoration-color: #808000\">PluginName</span>=<span style=\"color: #008000; text-decoration-color: #008000\">'aws:runShellScript'</span>,\n",
       "        <span style=\"color: #808000; text-decoration-color: #808000\">ResponseCode</span>=<span style=\"color: #008080; text-decoration-color: #008080; font-weight: bold\">0</span>,\n",
       "        <span style=\"color: #808000; text-decoration-color: #808000\">ExecutionStartDateTime</span>=<span style=\"color: #008000; text-decoration-color: #008000\">'2024-06-18T03:53:42.065Z'</span>,\n",
       "        <span style=\"color: #808000; text-decoration-color: #808000\">ExecutionElapsedTime</span>=<span style=\"color: #008000; text-decoration-color: #008000\">'PT0.105S'</span>,\n",
       "        <span style=\"color: #808000; text-decoration-color: #808000\">ExecutionEndDateTime</span>=<span style=\"color: #008000; text-decoration-color: #008000\">'2024-06-18T03:53:42.065Z'</span>,\n",
       "        <span style=\"color: #808000; text-decoration-color: #808000\">Status</span>=<span style=\"color: #008000; text-decoration-color: #008000\">'Success'</span>,\n",
       "        <span style=\"color: #808000; text-decoration-color: #808000\">StatusDetails</span>=<span style=\"color: #008000; text-decoration-color: #008000\">'Success'</span>,\n",
       "        <span style=\"color: #808000; text-decoration-color: #808000\">StandardOutputContent</span>=<span style=\"color: #008000; text-decoration-color: #008000\">'Python 3.9.16\\n'</span>,\n",
       "        <span style=\"color: #808000; text-decoration-color: #808000\">StandardOutputUrl</span>=<span style=\"color: #008000; text-decoration-color: #008000\">'https://s3.us-east-1.amazonaws.com/bmt-app-dev-us-east-1-data/projects/aws_ssm_run_comma</span>\n",
       "<span style=\"color: #008000; text-decoration-color: #008000\">nd/example/88f5b32a-365e-4f26-a7d2-c65d48dbfac1/i-00d17e6620f53ea14/awsrunShellScript/0.awsrunShellScript/stdout'</span>,\n",
       "        <span style=\"color: #808000; text-decoration-color: #808000\">StandardErrorContent</span>=<span style=\"color: #008000; text-decoration-color: #008000\">''</span>,\n",
       "        <span style=\"color: #808000; text-decoration-color: #808000\">StandardErrorUrl</span>=<span style=\"color: #008000; text-decoration-color: #008000\">'https://s3.us-east-1.amazonaws.com/bmt-app-dev-us-east-1-data/projects/aws_ssm_run_comman</span>\n",
       "<span style=\"color: #008000; text-decoration-color: #008000\">d/example/88f5b32a-365e-4f26-a7d2-c65d48dbfac1/i-00d17e6620f53ea14/awsrunShellScript/0.awsrunShellScript/stderr'</span>,\n",
       "        <span style=\"color: #808000; text-decoration-color: #808000\">CloudWatchOutputConfig</span>=<span style=\"font-weight: bold\">{</span><span style=\"color: #008000; text-decoration-color: #008000\">'CloudWatchLogGroupName'</span>: <span style=\"color: #008000; text-decoration-color: #008000\">''</span>, <span style=\"color: #008000; text-decoration-color: #008000\">'CloudWatchOutputEnabled'</span>: <span style=\"color: #ff0000; text-decoration-color: #ff0000; font-style: italic\">False</span><span style=\"font-weight: bold\">}</span>\n",
       "    <span style=\"font-weight: bold\">)</span>\n",
       "<span style=\"font-weight: bold\">]</span>\n",
       "</pre>\n"
      ],
      "text/plain": [
       "\u001b[1m[\u001b[0m\n",
       "    \u001b[1;35mCommandInvocation\u001b[0m\u001b[1m(\u001b[0m\n",
       "        \u001b[33mCommandId\u001b[0m=\u001b[32m'88f5b32a-365e-4f26-a7d2-c65d48dbfac1'\u001b[0m,\n",
       "        \u001b[33mInstanceId\u001b[0m=\u001b[32m'i-00d17e6620f53ea14'\u001b[0m,\n",
       "        \u001b[33mComment\u001b[0m=\u001b[32m''\u001b[0m,\n",
       "        \u001b[33mDocumentName\u001b[0m=\u001b[32m'AWS-RunShellScript'\u001b[0m,\n",
       "        \u001b[33mDocumentVersion\u001b[0m=\u001b[32m'1'\u001b[0m,\n",
       "        \u001b[33mPluginName\u001b[0m=\u001b[32m'aws:runShellScript'\u001b[0m,\n",
       "        \u001b[33mResponseCode\u001b[0m=\u001b[1;36m0\u001b[0m,\n",
       "        \u001b[33mExecutionStartDateTime\u001b[0m=\u001b[32m'2024-06-18T03:53:42.065Z'\u001b[0m,\n",
       "        \u001b[33mExecutionElapsedTime\u001b[0m=\u001b[32m'PT0.105S'\u001b[0m,\n",
       "        \u001b[33mExecutionEndDateTime\u001b[0m=\u001b[32m'2024-06-18T03:53:42.065Z'\u001b[0m,\n",
       "        \u001b[33mStatus\u001b[0m=\u001b[32m'Success'\u001b[0m,\n",
       "        \u001b[33mStatusDetails\u001b[0m=\u001b[32m'Success'\u001b[0m,\n",
       "        \u001b[33mStandardOutputContent\u001b[0m=\u001b[32m'Python 3.9.16\\n'\u001b[0m,\n",
       "        \u001b[33mStandardOutputUrl\u001b[0m=\u001b[32m'https://s3.us-east-1.amazonaws.com/bmt-app-dev-us-east-1-data/projects/aws_ssm_run_comma\u001b[0m\n",
       "\u001b[32mnd/example/88f5b32a-365e-4f26-a7d2-c65d48dbfac1/i-00d17e6620f53ea14/awsrunShellScript/0.awsrunShellScript/stdout'\u001b[0m,\n",
       "        \u001b[33mStandardErrorContent\u001b[0m=\u001b[32m''\u001b[0m,\n",
       "        \u001b[33mStandardErrorUrl\u001b[0m=\u001b[32m'https://s3.us-east-1.amazonaws.com/bmt-app-dev-us-east-1-data/projects/aws_ssm_run_comman\u001b[0m\n",
       "\u001b[32md/example/88f5b32a-365e-4f26-a7d2-c65d48dbfac1/i-00d17e6620f53ea14/awsrunShellScript/0.awsrunShellScript/stderr'\u001b[0m,\n",
       "        \u001b[33mCloudWatchOutputConfig\u001b[0m=\u001b[1m{\u001b[0m\u001b[32m'CloudWatchLogGroupName'\u001b[0m: \u001b[32m''\u001b[0m, \u001b[32m'CloudWatchOutputEnabled'\u001b[0m: \u001b[3;91mFalse\u001b[0m\u001b[1m}\u001b[0m\n",
       "    \u001b[1m)\u001b[0m\n",
       "\u001b[1m]\u001b[0m\n"
      ]
     },
     "metadata": {},
     "output_type": "display_data"
    }
   ],
   "source": [
    "print(\"--- command invocation details ---\")\n",
    "rprint(command_invocations)"
   ]
  },
  {
   "cell_type": "code",
   "execution_count": 18,
   "id": "4d9e59bf67cb3c43",
   "metadata": {
    "ExecuteTime": {
     "end_time": "2024-06-18T03:08:34.362483Z",
     "start_time": "2024-06-18T03:08:34.255406Z"
    },
    "collapsed": false,
    "editable": true,
    "jupyter": {
     "outputs_hidden": false
    },
    "slideshow": {
     "slide_type": ""
    },
    "tags": []
   },
   "outputs": [
    {
     "name": "stdout",
     "output_type": "stream",
     "text": [
      "--- s3 dir files ---\n"
     ]
    },
    {
     "data": {
      "text/html": [
       "<pre style=\"white-space:pre;overflow-x:auto;line-height:normal;font-family:Menlo,'DejaVu Sans Mono',consolas,'Courier New',monospace\">s3:<span style=\"color: #800080; text-decoration-color: #800080\">//bmt-app-dev-us-east-1-data/projects/aws_ssm_run_command/example/88f5b32a-365e-4f26-a7d2-c65d48dbfac1/i-00d17e6</span>\n",
       "<span style=\"color: #800080; text-decoration-color: #800080\">620f53ea14/awsrunShellScript/0.awsrunShellScript/</span><span style=\"color: #ff00ff; text-decoration-color: #ff00ff\">stdout</span>\n",
       "</pre>\n"
      ],
      "text/plain": [
       "s3:\u001b[35m/\u001b[0m\u001b[35m/bmt-app-dev-us-east-1-data/projects/aws_ssm_run_command/example/88f5b32a-365e-4f26-a7d2-c65d48dbfac1/i-00d17e6\u001b[0m\n",
       "\u001b[35m620f53ea14/awsrunShellScript/0.awsrunShellScript/\u001b[0m\u001b[95mstdout\u001b[0m\n"
      ]
     },
     "metadata": {},
     "output_type": "display_data"
    }
   ],
   "source": [
    "print(\"--- s3 dir files ---\")\n",
    "for s3path in s3dir.iter_objects():\n",
    "    rprint(s3path.uri)"
   ]
  },
  {
   "cell_type": "code",
   "execution_count": 19,
   "id": "24cbacc0f290bb0",
   "metadata": {
    "ExecuteTime": {
     "end_time": "2024-06-18T03:08:54.117547Z",
     "start_time": "2024-06-18T03:08:53.999169Z"
    },
    "collapsed": false,
    "editable": true,
    "jupyter": {
     "outputs_hidden": false
    },
    "slideshow": {
     "slide_type": ""
    },
    "tags": []
   },
   "outputs": [
    {
     "data": {
      "text/html": [
       "<pre style=\"white-space:pre;overflow-x:auto;line-height:normal;font-family:Menlo,'DejaVu Sans Mono',consolas,'Courier New',monospace\">read stdout from \n",
       "s3:<span style=\"color: #800080; text-decoration-color: #800080\">//bmt-app-dev-us-east-1-data/projects/aws_ssm_run_command/example/88f5b32a-365e-4f26-a7d2-c65d48dbfac1/i-00d17e6</span>\n",
       "<span style=\"color: #800080; text-decoration-color: #800080\">620f53ea14/awsrunShellScript/0.awsrunShellScript/</span><span style=\"color: #ff00ff; text-decoration-color: #ff00ff\">stdout</span>:\n",
       "</pre>\n"
      ],
      "text/plain": [
       "read stdout from \n",
       "s3:\u001b[35m/\u001b[0m\u001b[35m/bmt-app-dev-us-east-1-data/projects/aws_ssm_run_command/example/88f5b32a-365e-4f26-a7d2-c65d48dbfac1/i-00d17e6\u001b[0m\n",
       "\u001b[35m620f53ea14/awsrunShellScript/0.awsrunShellScript/\u001b[0m\u001b[95mstdout\u001b[0m:\n"
      ]
     },
     "metadata": {},
     "output_type": "display_data"
    },
    {
     "name": "stdout",
     "output_type": "stream",
     "text": [
      "--- stdout ---\n"
     ]
    },
    {
     "data": {
      "text/html": [
       "<pre style=\"white-space:pre;overflow-x:auto;line-height:normal;font-family:Menlo,'DejaVu Sans Mono',consolas,'Courier New',monospace\">Python <span style=\"color: #008080; text-decoration-color: #008080; font-weight: bold\">3.9</span>.<span style=\"color: #008080; text-decoration-color: #008080; font-weight: bold\">16</span>\n",
       "</pre>\n"
      ],
      "text/plain": [
       "Python \u001b[1;36m3.9\u001b[0m.\u001b[1;36m16\u001b[0m\n"
      ]
     },
     "metadata": {},
     "output_type": "display_data"
    }
   ],
   "source": [
    "s3path = S3Path(s3url_to_s3uri(command_invocations[0].StandardOutputUrl))\n",
    "rprint(f\"read stdout from {s3path.uri}:\")\n",
    "print(\"--- stdout ---\")\n",
    "rprint(s3path.read_text().strip())"
   ]
  },
  {
   "cell_type": "raw",
   "id": "2e6c0890-4cff-4571-a512-8cfeb6259410",
   "metadata": {
    "collapsed": false,
    "editable": true,
    "jupyter": {
     "outputs_hidden": false
    },
    "raw_mimetype": "text/restructuredtext",
    "slideshow": {
     "slide_type": ""
    },
    "tags": []
   },
   "source": [
    ".. _use-case-4:\n",
    "\n",
    "Use Case 4. Send Multiple Commands to Multiple Instances\n",
    "--------------------------------------------------------------------------------\n",
    "在运维领域, 批量对多台机器按照一定顺序执行多条命令是非常常见的需求. 在以前工程师常用 `Ansible <https://www.google.com/search?q=Ansible>`_ (2012 年第一次发布) 来实现这个需求. 而在云时代, AWS SSM 原生提供了这一功能.\n",
    "\n",
    "这里最关键的函数依然是 :func:`~aws_ssm_run_command.better_boto.run_shell_script.run_shell_script_sync`. 如果不用这个函数, `boto3.client(\"ssm\").send_command() <https://boto3.amazonaws.com/v1/documentation/api/latest/reference/services/ssm/client/send_command.html>`_ 会返回一个 ``CommandId`` 和 ``InstanceIds`` (是一个 EC2 instance id 的列表). 然后你要用一个 for 循环便利所有的 instance_id, 然后调用 `boto3.client(\"ssm\").get_command_invocation() <https://boto3.amazonaws.com/v1/documentation/api/latest/reference/services/ssm/client/get_command_invocation.html>`_ 来轮询这个 ``CommandId`` 直到命令执行完毕. 最终才能获得每个 EC2 instance 的 command invocation result. 这个代码非常繁琐. 而 ``run_shell_script_sync`` 已经帮你封装好了."
   ]
  },
  {
   "cell_type": "code",
   "execution_count": 20,
   "id": "341fdfacd632e45a",
   "metadata": {
    "ExecuteTime": {
     "end_time": "2024-06-18T03:09:03.251589Z",
     "start_time": "2024-06-18T03:09:03.121803Z"
    },
    "collapsed": false,
    "editable": true,
    "jupyter": {
     "outputs_hidden": false
    },
    "slideshow": {
     "slide_type": ""
    },
    "tags": []
   },
   "outputs": [
    {
     "data": {
      "text/plain": [
       "S3Path('s3://bmt-app-dev-us-east-1-data/projects/aws_ssm_run_command/example/')"
      ]
     },
     "execution_count": 20,
     "metadata": {},
     "output_type": "execute_result"
    }
   ],
   "source": [
    "# clean up the s3 folder to ensure a fresh start\n",
    "s3dir.delete()"
   ]
  },
  {
   "cell_type": "code",
   "execution_count": 21,
   "id": "dda1b0ed2ade6d70",
   "metadata": {
    "ExecuteTime": {
     "end_time": "2024-06-18T03:09:11.816824Z",
     "start_time": "2024-06-18T03:09:11.809595Z"
    },
    "collapsed": false,
    "editable": true,
    "jupyter": {
     "outputs_hidden": false
    },
    "slideshow": {
     "slide_type": ""
    },
    "tags": []
   },
   "outputs": [
    {
     "name": "stdout",
     "output_type": "stream",
     "text": [
      "--- command ---\n"
     ]
    },
    {
     "data": {
      "text/html": [
       "<pre style=\"white-space:pre;overflow-x:auto;line-height:normal;font-family:Menlo,'DejaVu Sans Mono',consolas,'Courier New',monospace\"><span style=\"font-weight: bold\">[</span><span style=\"color: #008000; text-decoration-color: #008000\">'aws --version'</span>, <span style=\"color: #008000; text-decoration-color: #008000\">'python3 --version'</span><span style=\"font-weight: bold\">]</span>\n",
       "</pre>\n"
      ],
      "text/plain": [
       "\u001b[1m[\u001b[0m\u001b[32m'aws --version'\u001b[0m, \u001b[32m'python3 --version'\u001b[0m\u001b[1m]\u001b[0m\n"
      ]
     },
     "metadata": {},
     "output_type": "display_data"
    }
   ],
   "source": [
    "print(\"--- command ---\")\n",
    "commands = [\n",
    "    \"aws --version\",\n",
    "    \"python3 --version\",\n",
    "]\n",
    "rprint(commands)"
   ]
  },
  {
   "cell_type": "code",
   "execution_count": 22,
   "id": "f024c3b640f5e78e",
   "metadata": {
    "ExecuteTime": {
     "end_time": "2024-06-18T03:09:20.631381Z",
     "start_time": "2024-06-18T03:09:16.234451Z"
    },
    "collapsed": false,
    "editable": true,
    "jupyter": {
     "outputs_hidden": false
    },
    "slideshow": {
     "slide_type": ""
    },
    "tags": []
   },
   "outputs": [
    {
     "name": "stdout",
     "output_type": "stream",
     "text": [
      "--- send command and wait it to succeed ---\n",
      "start waiter, polling every 3 seconds, timeout in 60 seconds.\n",
      "on 1 th attempt, elapsed 3 seconds, remain 57 seconds ...\n",
      "start waiter, polling every 3 seconds, timeout in 60 seconds.\n",
      "on 0 th attempt, elapsed 0 seconds, remain 60 seconds ...\n"
     ]
    }
   ],
   "source": [
    "print(\"--- send command and wait it to succeed ---\")\n",
    "command_invocations = aws_ssm_run_command.better_boto.run_shell_script_sync(\n",
    "    ssm_client=bsm.ssm_client,\n",
    "    commands=commands,\n",
    "    instance_ids=[inst_id_1, inst_id_2],\n",
    "    output_s3_bucket_name=s3dir.bucket,\n",
    "    output_s3_key_prefix=s3dir.key,\n",
    ")"
   ]
  },
  {
   "cell_type": "code",
   "execution_count": 23,
   "id": "196449fc5ac9ceb6",
   "metadata": {
    "ExecuteTime": {
     "end_time": "2024-06-18T03:09:20.679126Z",
     "start_time": "2024-06-18T03:09:20.673864Z"
    },
    "collapsed": false,
    "editable": true,
    "jupyter": {
     "outputs_hidden": false
    },
    "slideshow": {
     "slide_type": ""
    },
    "tags": []
   },
   "outputs": [
    {
     "name": "stdout",
     "output_type": "stream",
     "text": [
      "--- command invocation details ---\n"
     ]
    },
    {
     "data": {
      "text/html": [
       "<pre style=\"white-space:pre;overflow-x:auto;line-height:normal;font-family:Menlo,'DejaVu Sans Mono',consolas,'Courier New',monospace\"><span style=\"font-weight: bold\">[</span>\n",
       "    <span style=\"color: #800080; text-decoration-color: #800080; font-weight: bold\">CommandInvocation</span><span style=\"font-weight: bold\">(</span>\n",
       "        <span style=\"color: #808000; text-decoration-color: #808000\">CommandId</span>=<span style=\"color: #008000; text-decoration-color: #008000\">'a4621bd0-192f-41f5-a891-88a5d91eeeac'</span>,\n",
       "        <span style=\"color: #808000; text-decoration-color: #808000\">InstanceId</span>=<span style=\"color: #008000; text-decoration-color: #008000\">'i-00d17e6620f53ea14'</span>,\n",
       "        <span style=\"color: #808000; text-decoration-color: #808000\">Comment</span>=<span style=\"color: #008000; text-decoration-color: #008000\">''</span>,\n",
       "        <span style=\"color: #808000; text-decoration-color: #808000\">DocumentName</span>=<span style=\"color: #008000; text-decoration-color: #008000\">'AWS-RunShellScript'</span>,\n",
       "        <span style=\"color: #808000; text-decoration-color: #808000\">DocumentVersion</span>=<span style=\"color: #008000; text-decoration-color: #008000\">'1'</span>,\n",
       "        <span style=\"color: #808000; text-decoration-color: #808000\">PluginName</span>=<span style=\"color: #008000; text-decoration-color: #008000\">'aws:runShellScript'</span>,\n",
       "        <span style=\"color: #808000; text-decoration-color: #808000\">ResponseCode</span>=<span style=\"color: #008080; text-decoration-color: #008080; font-weight: bold\">0</span>,\n",
       "        <span style=\"color: #808000; text-decoration-color: #808000\">ExecutionStartDateTime</span>=<span style=\"color: #008000; text-decoration-color: #008000\">'2024-06-18T03:53:43.547Z'</span>,\n",
       "        <span style=\"color: #808000; text-decoration-color: #808000\">ExecutionElapsedTime</span>=<span style=\"color: #008000; text-decoration-color: #008000\">'PT0.62S'</span>,\n",
       "        <span style=\"color: #808000; text-decoration-color: #808000\">ExecutionEndDateTime</span>=<span style=\"color: #008000; text-decoration-color: #008000\">'2024-06-18T03:53:43.547Z'</span>,\n",
       "        <span style=\"color: #808000; text-decoration-color: #808000\">Status</span>=<span style=\"color: #008000; text-decoration-color: #008000\">'Success'</span>,\n",
       "        <span style=\"color: #808000; text-decoration-color: #808000\">StatusDetails</span>=<span style=\"color: #008000; text-decoration-color: #008000\">'Success'</span>,\n",
       "        <span style=\"color: #808000; text-decoration-color: #808000\">StandardOutputContent</span>=<span style=\"color: #008000; text-decoration-color: #008000\">'aws-cli/2.15.30 Python/3.9.16 Linux/6.1.92-99.174.amzn2023.x86_64 </span>\n",
       "<span style=\"color: #008000; text-decoration-color: #008000\">source/x86_64.amzn.2023 prompt/off\\nPython 3.9.16\\n'</span>,\n",
       "        <span style=\"color: #808000; text-decoration-color: #808000\">StandardOutputUrl</span>=<span style=\"color: #008000; text-decoration-color: #008000\">'https://s3.us-east-1.amazonaws.com/bmt-app-dev-us-east-1-data/projects/aws_ssm_run_comma</span>\n",
       "<span style=\"color: #008000; text-decoration-color: #008000\">nd/example/a4621bd0-192f-41f5-a891-88a5d91eeeac/i-00d17e6620f53ea14/awsrunShellScript/0.awsrunShellScript/stdout'</span>,\n",
       "        <span style=\"color: #808000; text-decoration-color: #808000\">StandardErrorContent</span>=<span style=\"color: #008000; text-decoration-color: #008000\">''</span>,\n",
       "        <span style=\"color: #808000; text-decoration-color: #808000\">StandardErrorUrl</span>=<span style=\"color: #008000; text-decoration-color: #008000\">'https://s3.us-east-1.amazonaws.com/bmt-app-dev-us-east-1-data/projects/aws_ssm_run_comman</span>\n",
       "<span style=\"color: #008000; text-decoration-color: #008000\">d/example/a4621bd0-192f-41f5-a891-88a5d91eeeac/i-00d17e6620f53ea14/awsrunShellScript/0.awsrunShellScript/stderr'</span>,\n",
       "        <span style=\"color: #808000; text-decoration-color: #808000\">CloudWatchOutputConfig</span>=<span style=\"font-weight: bold\">{</span><span style=\"color: #008000; text-decoration-color: #008000\">'CloudWatchLogGroupName'</span>: <span style=\"color: #008000; text-decoration-color: #008000\">''</span>, <span style=\"color: #008000; text-decoration-color: #008000\">'CloudWatchOutputEnabled'</span>: <span style=\"color: #ff0000; text-decoration-color: #ff0000; font-style: italic\">False</span><span style=\"font-weight: bold\">}</span>\n",
       "    <span style=\"font-weight: bold\">)</span>,\n",
       "    <span style=\"color: #800080; text-decoration-color: #800080; font-weight: bold\">CommandInvocation</span><span style=\"font-weight: bold\">(</span>\n",
       "        <span style=\"color: #808000; text-decoration-color: #808000\">CommandId</span>=<span style=\"color: #008000; text-decoration-color: #008000\">'a4621bd0-192f-41f5-a891-88a5d91eeeac'</span>,\n",
       "        <span style=\"color: #808000; text-decoration-color: #808000\">InstanceId</span>=<span style=\"color: #008000; text-decoration-color: #008000\">'i-04263cc722e9b0ac3'</span>,\n",
       "        <span style=\"color: #808000; text-decoration-color: #808000\">Comment</span>=<span style=\"color: #008000; text-decoration-color: #008000\">''</span>,\n",
       "        <span style=\"color: #808000; text-decoration-color: #808000\">DocumentName</span>=<span style=\"color: #008000; text-decoration-color: #008000\">'AWS-RunShellScript'</span>,\n",
       "        <span style=\"color: #808000; text-decoration-color: #808000\">DocumentVersion</span>=<span style=\"color: #008000; text-decoration-color: #008000\">'1'</span>,\n",
       "        <span style=\"color: #808000; text-decoration-color: #808000\">PluginName</span>=<span style=\"color: #008000; text-decoration-color: #008000\">'aws:runShellScript'</span>,\n",
       "        <span style=\"color: #808000; text-decoration-color: #808000\">ResponseCode</span>=<span style=\"color: #008080; text-decoration-color: #008080; font-weight: bold\">0</span>,\n",
       "        <span style=\"color: #808000; text-decoration-color: #808000\">ExecutionStartDateTime</span>=<span style=\"color: #008000; text-decoration-color: #008000\">'2024-06-18T03:53:43.563Z'</span>,\n",
       "        <span style=\"color: #808000; text-decoration-color: #808000\">ExecutionElapsedTime</span>=<span style=\"color: #008000; text-decoration-color: #008000\">'PT0.623S'</span>,\n",
       "        <span style=\"color: #808000; text-decoration-color: #808000\">ExecutionEndDateTime</span>=<span style=\"color: #008000; text-decoration-color: #008000\">'2024-06-18T03:53:43.563Z'</span>,\n",
       "        <span style=\"color: #808000; text-decoration-color: #808000\">Status</span>=<span style=\"color: #008000; text-decoration-color: #008000\">'Success'</span>,\n",
       "        <span style=\"color: #808000; text-decoration-color: #808000\">StatusDetails</span>=<span style=\"color: #008000; text-decoration-color: #008000\">'Success'</span>,\n",
       "        <span style=\"color: #808000; text-decoration-color: #808000\">StandardOutputContent</span>=<span style=\"color: #008000; text-decoration-color: #008000\">'aws-cli/2.15.30 Python/3.9.16 Linux/6.1.92-99.174.amzn2023.x86_64 </span>\n",
       "<span style=\"color: #008000; text-decoration-color: #008000\">source/x86_64.amzn.2023 prompt/off\\nPython 3.9.16\\n'</span>,\n",
       "        <span style=\"color: #808000; text-decoration-color: #808000\">StandardOutputUrl</span>=<span style=\"color: #008000; text-decoration-color: #008000\">'https://s3.us-east-1.amazonaws.com/bmt-app-dev-us-east-1-data/projects/aws_ssm_run_comma</span>\n",
       "<span style=\"color: #008000; text-decoration-color: #008000\">nd/example/a4621bd0-192f-41f5-a891-88a5d91eeeac/i-04263cc722e9b0ac3/awsrunShellScript/0.awsrunShellScript/stdout'</span>,\n",
       "        <span style=\"color: #808000; text-decoration-color: #808000\">StandardErrorContent</span>=<span style=\"color: #008000; text-decoration-color: #008000\">''</span>,\n",
       "        <span style=\"color: #808000; text-decoration-color: #808000\">StandardErrorUrl</span>=<span style=\"color: #008000; text-decoration-color: #008000\">'https://s3.us-east-1.amazonaws.com/bmt-app-dev-us-east-1-data/projects/aws_ssm_run_comman</span>\n",
       "<span style=\"color: #008000; text-decoration-color: #008000\">d/example/a4621bd0-192f-41f5-a891-88a5d91eeeac/i-04263cc722e9b0ac3/awsrunShellScript/0.awsrunShellScript/stderr'</span>,\n",
       "        <span style=\"color: #808000; text-decoration-color: #808000\">CloudWatchOutputConfig</span>=<span style=\"font-weight: bold\">{</span><span style=\"color: #008000; text-decoration-color: #008000\">'CloudWatchLogGroupName'</span>: <span style=\"color: #008000; text-decoration-color: #008000\">''</span>, <span style=\"color: #008000; text-decoration-color: #008000\">'CloudWatchOutputEnabled'</span>: <span style=\"color: #ff0000; text-decoration-color: #ff0000; font-style: italic\">False</span><span style=\"font-weight: bold\">}</span>\n",
       "    <span style=\"font-weight: bold\">)</span>\n",
       "<span style=\"font-weight: bold\">]</span>\n",
       "</pre>\n"
      ],
      "text/plain": [
       "\u001b[1m[\u001b[0m\n",
       "    \u001b[1;35mCommandInvocation\u001b[0m\u001b[1m(\u001b[0m\n",
       "        \u001b[33mCommandId\u001b[0m=\u001b[32m'a4621bd0-192f-41f5-a891-88a5d91eeeac'\u001b[0m,\n",
       "        \u001b[33mInstanceId\u001b[0m=\u001b[32m'i-00d17e6620f53ea14'\u001b[0m,\n",
       "        \u001b[33mComment\u001b[0m=\u001b[32m''\u001b[0m,\n",
       "        \u001b[33mDocumentName\u001b[0m=\u001b[32m'AWS-RunShellScript'\u001b[0m,\n",
       "        \u001b[33mDocumentVersion\u001b[0m=\u001b[32m'1'\u001b[0m,\n",
       "        \u001b[33mPluginName\u001b[0m=\u001b[32m'aws:runShellScript'\u001b[0m,\n",
       "        \u001b[33mResponseCode\u001b[0m=\u001b[1;36m0\u001b[0m,\n",
       "        \u001b[33mExecutionStartDateTime\u001b[0m=\u001b[32m'2024-06-18T03:53:43.547Z'\u001b[0m,\n",
       "        \u001b[33mExecutionElapsedTime\u001b[0m=\u001b[32m'PT0.62S'\u001b[0m,\n",
       "        \u001b[33mExecutionEndDateTime\u001b[0m=\u001b[32m'2024-06-18T03:53:43.547Z'\u001b[0m,\n",
       "        \u001b[33mStatus\u001b[0m=\u001b[32m'Success'\u001b[0m,\n",
       "        \u001b[33mStatusDetails\u001b[0m=\u001b[32m'Success'\u001b[0m,\n",
       "        \u001b[33mStandardOutputContent\u001b[0m=\u001b[32m'aws-cli/2.15.30 Python/3.9.16 Linux/6.1.92-99.174.amzn2023.x86_64 \u001b[0m\n",
       "\u001b[32msource/x86_64.amzn.2023 prompt/off\\nPython 3.9.16\\n'\u001b[0m,\n",
       "        \u001b[33mStandardOutputUrl\u001b[0m=\u001b[32m'https://s3.us-east-1.amazonaws.com/bmt-app-dev-us-east-1-data/projects/aws_ssm_run_comma\u001b[0m\n",
       "\u001b[32mnd/example/a4621bd0-192f-41f5-a891-88a5d91eeeac/i-00d17e6620f53ea14/awsrunShellScript/0.awsrunShellScript/stdout'\u001b[0m,\n",
       "        \u001b[33mStandardErrorContent\u001b[0m=\u001b[32m''\u001b[0m,\n",
       "        \u001b[33mStandardErrorUrl\u001b[0m=\u001b[32m'https://s3.us-east-1.amazonaws.com/bmt-app-dev-us-east-1-data/projects/aws_ssm_run_comman\u001b[0m\n",
       "\u001b[32md/example/a4621bd0-192f-41f5-a891-88a5d91eeeac/i-00d17e6620f53ea14/awsrunShellScript/0.awsrunShellScript/stderr'\u001b[0m,\n",
       "        \u001b[33mCloudWatchOutputConfig\u001b[0m=\u001b[1m{\u001b[0m\u001b[32m'CloudWatchLogGroupName'\u001b[0m: \u001b[32m''\u001b[0m, \u001b[32m'CloudWatchOutputEnabled'\u001b[0m: \u001b[3;91mFalse\u001b[0m\u001b[1m}\u001b[0m\n",
       "    \u001b[1m)\u001b[0m,\n",
       "    \u001b[1;35mCommandInvocation\u001b[0m\u001b[1m(\u001b[0m\n",
       "        \u001b[33mCommandId\u001b[0m=\u001b[32m'a4621bd0-192f-41f5-a891-88a5d91eeeac'\u001b[0m,\n",
       "        \u001b[33mInstanceId\u001b[0m=\u001b[32m'i-04263cc722e9b0ac3'\u001b[0m,\n",
       "        \u001b[33mComment\u001b[0m=\u001b[32m''\u001b[0m,\n",
       "        \u001b[33mDocumentName\u001b[0m=\u001b[32m'AWS-RunShellScript'\u001b[0m,\n",
       "        \u001b[33mDocumentVersion\u001b[0m=\u001b[32m'1'\u001b[0m,\n",
       "        \u001b[33mPluginName\u001b[0m=\u001b[32m'aws:runShellScript'\u001b[0m,\n",
       "        \u001b[33mResponseCode\u001b[0m=\u001b[1;36m0\u001b[0m,\n",
       "        \u001b[33mExecutionStartDateTime\u001b[0m=\u001b[32m'2024-06-18T03:53:43.563Z'\u001b[0m,\n",
       "        \u001b[33mExecutionElapsedTime\u001b[0m=\u001b[32m'PT0.623S'\u001b[0m,\n",
       "        \u001b[33mExecutionEndDateTime\u001b[0m=\u001b[32m'2024-06-18T03:53:43.563Z'\u001b[0m,\n",
       "        \u001b[33mStatus\u001b[0m=\u001b[32m'Success'\u001b[0m,\n",
       "        \u001b[33mStatusDetails\u001b[0m=\u001b[32m'Success'\u001b[0m,\n",
       "        \u001b[33mStandardOutputContent\u001b[0m=\u001b[32m'aws-cli/2.15.30 Python/3.9.16 Linux/6.1.92-99.174.amzn2023.x86_64 \u001b[0m\n",
       "\u001b[32msource/x86_64.amzn.2023 prompt/off\\nPython 3.9.16\\n'\u001b[0m,\n",
       "        \u001b[33mStandardOutputUrl\u001b[0m=\u001b[32m'https://s3.us-east-1.amazonaws.com/bmt-app-dev-us-east-1-data/projects/aws_ssm_run_comma\u001b[0m\n",
       "\u001b[32mnd/example/a4621bd0-192f-41f5-a891-88a5d91eeeac/i-04263cc722e9b0ac3/awsrunShellScript/0.awsrunShellScript/stdout'\u001b[0m,\n",
       "        \u001b[33mStandardErrorContent\u001b[0m=\u001b[32m''\u001b[0m,\n",
       "        \u001b[33mStandardErrorUrl\u001b[0m=\u001b[32m'https://s3.us-east-1.amazonaws.com/bmt-app-dev-us-east-1-data/projects/aws_ssm_run_comman\u001b[0m\n",
       "\u001b[32md/example/a4621bd0-192f-41f5-a891-88a5d91eeeac/i-04263cc722e9b0ac3/awsrunShellScript/0.awsrunShellScript/stderr'\u001b[0m,\n",
       "        \u001b[33mCloudWatchOutputConfig\u001b[0m=\u001b[1m{\u001b[0m\u001b[32m'CloudWatchLogGroupName'\u001b[0m: \u001b[32m''\u001b[0m, \u001b[32m'CloudWatchOutputEnabled'\u001b[0m: \u001b[3;91mFalse\u001b[0m\u001b[1m}\u001b[0m\n",
       "    \u001b[1m)\u001b[0m\n",
       "\u001b[1m]\u001b[0m\n"
      ]
     },
     "metadata": {},
     "output_type": "display_data"
    }
   ],
   "source": [
    "print(\"--- command invocation details ---\")\n",
    "rprint(command_invocations)"
   ]
  },
  {
   "cell_type": "code",
   "execution_count": 24,
   "id": "29fd93e73055ca25",
   "metadata": {
    "ExecuteTime": {
     "end_time": "2024-06-18T03:09:24.846337Z",
     "start_time": "2024-06-18T03:09:24.732723Z"
    },
    "collapsed": false,
    "editable": true,
    "jupyter": {
     "outputs_hidden": false
    },
    "slideshow": {
     "slide_type": ""
    },
    "tags": []
   },
   "outputs": [
    {
     "name": "stdout",
     "output_type": "stream",
     "text": [
      "--- s3 dir files ---\n"
     ]
    },
    {
     "data": {
      "text/html": [
       "<pre style=\"white-space:pre;overflow-x:auto;line-height:normal;font-family:Menlo,'DejaVu Sans Mono',consolas,'Courier New',monospace\">s3:<span style=\"color: #800080; text-decoration-color: #800080\">//bmt-app-dev-us-east-1-data/projects/aws_ssm_run_command/example/a4621bd0-192f-41f5-a891-88a5d91eeeac/i-00d17e6</span>\n",
       "<span style=\"color: #800080; text-decoration-color: #800080\">620f53ea14/awsrunShellScript/0.awsrunShellScript/</span><span style=\"color: #ff00ff; text-decoration-color: #ff00ff\">stdout</span>\n",
       "</pre>\n"
      ],
      "text/plain": [
       "s3:\u001b[35m/\u001b[0m\u001b[35m/bmt-app-dev-us-east-1-data/projects/aws_ssm_run_command/example/a4621bd0-192f-41f5-a891-88a5d91eeeac/i-00d17e6\u001b[0m\n",
       "\u001b[35m620f53ea14/awsrunShellScript/0.awsrunShellScript/\u001b[0m\u001b[95mstdout\u001b[0m\n"
      ]
     },
     "metadata": {},
     "output_type": "display_data"
    },
    {
     "data": {
      "text/html": [
       "<pre style=\"white-space:pre;overflow-x:auto;line-height:normal;font-family:Menlo,'DejaVu Sans Mono',consolas,'Courier New',monospace\">s3:<span style=\"color: #800080; text-decoration-color: #800080\">//bmt-app-dev-us-east-1-data/projects/aws_ssm_run_command/example/a4621bd0-192f-41f5-a891-88a5d91eeeac/i-04263cc</span>\n",
       "<span style=\"color: #800080; text-decoration-color: #800080\">722e9b0ac3/awsrunShellScript/0.awsrunShellScript/</span><span style=\"color: #ff00ff; text-decoration-color: #ff00ff\">stdout</span>\n",
       "</pre>\n"
      ],
      "text/plain": [
       "s3:\u001b[35m/\u001b[0m\u001b[35m/bmt-app-dev-us-east-1-data/projects/aws_ssm_run_command/example/a4621bd0-192f-41f5-a891-88a5d91eeeac/i-04263cc\u001b[0m\n",
       "\u001b[35m722e9b0ac3/awsrunShellScript/0.awsrunShellScript/\u001b[0m\u001b[95mstdout\u001b[0m\n"
      ]
     },
     "metadata": {},
     "output_type": "display_data"
    }
   ],
   "source": [
    "print(\"--- s3 dir files ---\")\n",
    "for s3path in s3dir.iter_objects():\n",
    "    rprint(s3path.uri)"
   ]
  },
  {
   "cell_type": "code",
   "execution_count": 25,
   "id": "bd52c7e50d441a3",
   "metadata": {
    "ExecuteTime": {
     "end_time": "2024-06-18T03:09:34.298709Z",
     "start_time": "2024-06-18T03:09:34.161625Z"
    },
    "collapsed": false,
    "editable": true,
    "jupyter": {
     "outputs_hidden": false
    },
    "slideshow": {
     "slide_type": ""
    },
    "tags": []
   },
   "outputs": [
    {
     "data": {
      "text/html": [
       "<pre style=\"white-space:pre;overflow-x:auto;line-height:normal;font-family:Menlo,'DejaVu Sans Mono',consolas,'Courier New',monospace\">read stdout from \n",
       "s3:<span style=\"color: #800080; text-decoration-color: #800080\">//bmt-app-dev-us-east-1-data/projects/aws_ssm_run_command/example/a4621bd0-192f-41f5-a891-88a5d91eeeac/i-00d17e6</span>\n",
       "<span style=\"color: #800080; text-decoration-color: #800080\">620f53ea14/awsrunShellScript/0.awsrunShellScript/</span><span style=\"color: #ff00ff; text-decoration-color: #ff00ff\">stdout</span>:\n",
       "</pre>\n"
      ],
      "text/plain": [
       "read stdout from \n",
       "s3:\u001b[35m/\u001b[0m\u001b[35m/bmt-app-dev-us-east-1-data/projects/aws_ssm_run_command/example/a4621bd0-192f-41f5-a891-88a5d91eeeac/i-00d17e6\u001b[0m\n",
       "\u001b[35m620f53ea14/awsrunShellScript/0.awsrunShellScript/\u001b[0m\u001b[95mstdout\u001b[0m:\n"
      ]
     },
     "metadata": {},
     "output_type": "display_data"
    },
    {
     "name": "stdout",
     "output_type": "stream",
     "text": [
      "--- stdout ---\n"
     ]
    },
    {
     "data": {
      "text/html": [
       "<pre style=\"white-space:pre;overflow-x:auto;line-height:normal;font-family:Menlo,'DejaVu Sans Mono',consolas,'Courier New',monospace\">aws-cli/<span style=\"color: #008080; text-decoration-color: #008080; font-weight: bold\">2.15</span>.<span style=\"color: #008080; text-decoration-color: #008080; font-weight: bold\">30</span> Python/<span style=\"color: #008080; text-decoration-color: #008080; font-weight: bold\">3.9</span>.<span style=\"color: #008080; text-decoration-color: #008080; font-weight: bold\">16</span> Linux/<span style=\"color: #008080; text-decoration-color: #008080; font-weight: bold\">6.1</span>.<span style=\"color: #008080; text-decoration-color: #008080; font-weight: bold\">92</span>-<span style=\"color: #008080; text-decoration-color: #008080; font-weight: bold\">99.174</span>.amzn2023.x86_64 source/x86_64.amzn.<span style=\"color: #008080; text-decoration-color: #008080; font-weight: bold\">2023</span> prompt/off\n",
       "Python <span style=\"color: #008080; text-decoration-color: #008080; font-weight: bold\">3.9</span>.<span style=\"color: #008080; text-decoration-color: #008080; font-weight: bold\">16</span>\n",
       "</pre>\n"
      ],
      "text/plain": [
       "aws-cli/\u001b[1;36m2.15\u001b[0m.\u001b[1;36m30\u001b[0m Python/\u001b[1;36m3.9\u001b[0m.\u001b[1;36m16\u001b[0m Linux/\u001b[1;36m6.1\u001b[0m.\u001b[1;36m92\u001b[0m-\u001b[1;36m99.174\u001b[0m.amzn2023.x86_64 source/x86_64.amzn.\u001b[1;36m2023\u001b[0m prompt/off\n",
       "Python \u001b[1;36m3.9\u001b[0m.\u001b[1;36m16\u001b[0m\n"
      ]
     },
     "metadata": {},
     "output_type": "display_data"
    },
    {
     "data": {
      "text/html": [
       "<pre style=\"white-space:pre;overflow-x:auto;line-height:normal;font-family:Menlo,'DejaVu Sans Mono',consolas,'Courier New',monospace\">read stdout from \n",
       "s3:<span style=\"color: #800080; text-decoration-color: #800080\">//bmt-app-dev-us-east-1-data/projects/aws_ssm_run_command/example/a4621bd0-192f-41f5-a891-88a5d91eeeac/i-04263cc</span>\n",
       "<span style=\"color: #800080; text-decoration-color: #800080\">722e9b0ac3/awsrunShellScript/0.awsrunShellScript/</span><span style=\"color: #ff00ff; text-decoration-color: #ff00ff\">stdout</span>:\n",
       "</pre>\n"
      ],
      "text/plain": [
       "read stdout from \n",
       "s3:\u001b[35m/\u001b[0m\u001b[35m/bmt-app-dev-us-east-1-data/projects/aws_ssm_run_command/example/a4621bd0-192f-41f5-a891-88a5d91eeeac/i-04263cc\u001b[0m\n",
       "\u001b[35m722e9b0ac3/awsrunShellScript/0.awsrunShellScript/\u001b[0m\u001b[95mstdout\u001b[0m:\n"
      ]
     },
     "metadata": {},
     "output_type": "display_data"
    },
    {
     "name": "stdout",
     "output_type": "stream",
     "text": [
      "--- stdout ---\n"
     ]
    },
    {
     "data": {
      "text/html": [
       "<pre style=\"white-space:pre;overflow-x:auto;line-height:normal;font-family:Menlo,'DejaVu Sans Mono',consolas,'Courier New',monospace\">aws-cli/<span style=\"color: #008080; text-decoration-color: #008080; font-weight: bold\">2.15</span>.<span style=\"color: #008080; text-decoration-color: #008080; font-weight: bold\">30</span> Python/<span style=\"color: #008080; text-decoration-color: #008080; font-weight: bold\">3.9</span>.<span style=\"color: #008080; text-decoration-color: #008080; font-weight: bold\">16</span> Linux/<span style=\"color: #008080; text-decoration-color: #008080; font-weight: bold\">6.1</span>.<span style=\"color: #008080; text-decoration-color: #008080; font-weight: bold\">92</span>-<span style=\"color: #008080; text-decoration-color: #008080; font-weight: bold\">99.174</span>.amzn2023.x86_64 source/x86_64.amzn.<span style=\"color: #008080; text-decoration-color: #008080; font-weight: bold\">2023</span> prompt/off\n",
       "Python <span style=\"color: #008080; text-decoration-color: #008080; font-weight: bold\">3.9</span>.<span style=\"color: #008080; text-decoration-color: #008080; font-weight: bold\">16</span>\n",
       "</pre>\n"
      ],
      "text/plain": [
       "aws-cli/\u001b[1;36m2.15\u001b[0m.\u001b[1;36m30\u001b[0m Python/\u001b[1;36m3.9\u001b[0m.\u001b[1;36m16\u001b[0m Linux/\u001b[1;36m6.1\u001b[0m.\u001b[1;36m92\u001b[0m-\u001b[1;36m99.174\u001b[0m.amzn2023.x86_64 source/x86_64.amzn.\u001b[1;36m2023\u001b[0m prompt/off\n",
       "Python \u001b[1;36m3.9\u001b[0m.\u001b[1;36m16\u001b[0m\n"
      ]
     },
     "metadata": {},
     "output_type": "display_data"
    }
   ],
   "source": [
    "for command_invocation in command_invocations:\n",
    "    s3path = S3Path(s3url_to_s3uri(command_invocation.StandardOutputUrl))\n",
    "    rprint(f\"read stdout from {s3path.uri}:\")\n",
    "    print(\"--- stdout ---\")\n",
    "    rprint(s3path.read_text().strip())"
   ]
  },
  {
   "cell_type": "raw",
   "id": "e72526cf-6ff9-45e4-bbb7-125671772029",
   "metadata": {
    "collapsed": false,
    "editable": true,
    "jupyter": {
     "outputs_hidden": false
    },
    "raw_mimetype": "text/restructuredtext",
    "slideshow": {
     "slide_type": ""
    },
    "tags": []
   },
   "source": [
    ".. _use-case-5:\n",
    "\n",
    "Use Case 5. Error Handling For Multiple Commands on Multiple Instances\n",
    "--------------------------------------------------------------------------------\n",
    "在实际生产环境中, 不可能事事一帆风顺. 而对于异常处理, 我们要考虑如下维度:\n",
    "\n",
    "1. 在同一台机器上执行多条命令时, 是顺序执行还是并行执行?\n",
    "2. 在多台机器上执行命令时, 是一台机器执行完了再执行下一台 (顺序执行), 还是所有机器同时执行?\n",
    "3. 当一条命令失败时, 是否要继续执行后续的命令?\n",
    "4. 当一台机器执行失败时, 是否要继续执行后续的机器? \n",
    "\n",
    "当这些维度组合在一起时, 异常处理就不那么容易了.\n",
    "\n",
    ":func:`~aws_ssm_run_command.better_boto.run_shell_script.run_shell_script_sync` 函数提供了 ``allow_fails_config`` 参数, 可以让你精确控制异常处理. 这个参数的值可以是:\n",
    "\n",
    "1. 如果是 0, 任何一条命令失败, 都会抛出异常. 这也是默认设置.\n",
    "2. 如果是 1 或者大于 1 的整数, 则允许在 N 台 instance 上失败.\n",
    "3. 如果是 0 到 1 之间的浮点数 (不能是 0.0 或者 1.0), 则允许一定比例的 instance 失败. 结果向下取整.\n",
    "4. 如果是 str 或是 str 的列表, 那么允许指定的 instance id 失败.\n",
    "\n",
    "在允许失败且不抛出异常的情况下, 你会看到返回的 :class:`~aws_ssm_run_command.better_boto.response.CommandInvocation` 列表中有的状态是成功, 有的状态是失败."
   ]
  },
  {
   "cell_type": "code",
   "execution_count": 26,
   "id": "51c33a0531c6d05b",
   "metadata": {
    "ExecuteTime": {
     "end_time": "2024-06-18T03:17:27.983439Z",
     "start_time": "2024-06-18T03:17:27.801149Z"
    },
    "collapsed": false,
    "editable": true,
    "jupyter": {
     "outputs_hidden": false
    },
    "slideshow": {
     "slide_type": ""
    },
    "tags": []
   },
   "outputs": [
    {
     "data": {
      "text/plain": [
       "S3Path('s3://bmt-app-dev-us-east-1-data/projects/aws_ssm_run_command/example/')"
      ]
     },
     "execution_count": 26,
     "metadata": {},
     "output_type": "execute_result"
    }
   ],
   "source": [
    "# clean up the s3 folder to ensure a fresh start\n",
    "s3dir.delete()"
   ]
  },
  {
   "cell_type": "code",
   "execution_count": 27,
   "id": "16600026e0bb402b",
   "metadata": {
    "ExecuteTime": {
     "end_time": "2024-06-18T03:17:31.606565Z",
     "start_time": "2024-06-18T03:17:31.596369Z"
    },
    "collapsed": false,
    "editable": true,
    "jupyter": {
     "outputs_hidden": false
    },
    "slideshow": {
     "slide_type": ""
    },
    "tags": []
   },
   "outputs": [
    {
     "name": "stdout",
     "output_type": "stream",
     "text": [
      "--- command ---\n"
     ]
    },
    {
     "data": {
      "text/html": [
       "<pre style=\"white-space:pre;overflow-x:auto;line-height:normal;font-family:Menlo,'DejaVu Sans Mono',consolas,'Courier New',monospace\"><span style=\"font-weight: bold\">[</span><span style=\"color: #008000; text-decoration-color: #008000\">'python3 --version'</span>, <span style=\"color: #008000; text-decoration-color: #008000\">'pip3 --version'</span><span style=\"font-weight: bold\">]</span>\n",
       "</pre>\n"
      ],
      "text/plain": [
       "\u001b[1m[\u001b[0m\u001b[32m'python3 --version'\u001b[0m, \u001b[32m'pip3 --version'\u001b[0m\u001b[1m]\u001b[0m\n"
      ]
     },
     "metadata": {},
     "output_type": "display_data"
    }
   ],
   "source": [
    "print(\"--- command ---\")\n",
    "commands = [\n",
    "    \"python3 --version\", # This always work\n",
    "    # I have run \"sudo python3 -m ensurepip --upgrade\" in instance 1 already\n",
    "    \"pip3 --version\", # This only works on instance 1, instance 2 doesn't have \"pip\"\n",
    "]\n",
    "rprint(commands)"
   ]
  },
  {
   "cell_type": "code",
   "execution_count": 28,
   "id": "4e3ae82edff6430c",
   "metadata": {
    "ExecuteTime": {
     "end_time": "2024-06-18T03:17:39.288197Z",
     "start_time": "2024-06-18T03:17:37.722937Z"
    },
    "collapsed": false,
    "editable": true,
    "jupyter": {
     "outputs_hidden": false
    },
    "slideshow": {
     "slide_type": ""
    },
    "tags": []
   },
   "outputs": [
    {
     "name": "stdout",
     "output_type": "stream",
     "text": [
      "--- send command and wait it to succeed ---\n",
      "start waiter, polling every 3 seconds, timeout in 60 seconds.\n",
      "on 0 th attempt, elapsed 0 seconds, remain 60 seconds ...\n",
      "start waiter, polling every 3 seconds, timeout in 60 seconds.\n",
      "on 0 th attempt, elapsed 0 seconds, remain 60 seconds ..."
     ]
    }
   ],
   "source": [
    "print(\"--- send command and wait it to succeed ---\")\n",
    "command_invocations = aws_ssm_run_command.better_boto.run_shell_script_sync(\n",
    "    ssm_client=bsm.ssm_client,\n",
    "    commands=commands,\n",
    "    instance_ids=[inst_id_1, inst_id_2],\n",
    "    output_s3_bucket_name=s3dir.bucket,\n",
    "    output_s3_key_prefix=s3dir.key,\n",
    "    allow_fails_config=2,\n",
    ")"
   ]
  },
  {
   "cell_type": "code",
   "execution_count": 29,
   "id": "39f9505f52fd5f7c",
   "metadata": {
    "ExecuteTime": {
     "end_time": "2024-06-18T03:17:41.292605Z",
     "start_time": "2024-06-18T03:17:41.287688Z"
    },
    "collapsed": false,
    "editable": true,
    "jupyter": {
     "outputs_hidden": false
    },
    "slideshow": {
     "slide_type": ""
    },
    "tags": []
   },
   "outputs": [
    {
     "name": "stdout",
     "output_type": "stream",
     "text": [
      "--- command invocation details ---\n"
     ]
    },
    {
     "data": {
      "text/html": [
       "<pre style=\"white-space:pre;overflow-x:auto;line-height:normal;font-family:Menlo,'DejaVu Sans Mono',consolas,'Courier New',monospace\"><span style=\"font-weight: bold\">[</span>\n",
       "    <span style=\"color: #800080; text-decoration-color: #800080; font-weight: bold\">CommandInvocation</span><span style=\"font-weight: bold\">(</span>\n",
       "        <span style=\"color: #808000; text-decoration-color: #808000\">CommandId</span>=<span style=\"color: #008000; text-decoration-color: #008000\">'e6101c42-ba78-48f8-ac2f-56eb90913579'</span>,\n",
       "        <span style=\"color: #808000; text-decoration-color: #808000\">InstanceId</span>=<span style=\"color: #008000; text-decoration-color: #008000\">'i-00d17e6620f53ea14'</span>,\n",
       "        <span style=\"color: #808000; text-decoration-color: #808000\">Comment</span>=<span style=\"color: #008000; text-decoration-color: #008000\">''</span>,\n",
       "        <span style=\"color: #808000; text-decoration-color: #808000\">DocumentName</span>=<span style=\"color: #008000; text-decoration-color: #008000\">'AWS-RunShellScript'</span>,\n",
       "        <span style=\"color: #808000; text-decoration-color: #808000\">DocumentVersion</span>=<span style=\"color: #008000; text-decoration-color: #008000\">'1'</span>,\n",
       "        <span style=\"color: #808000; text-decoration-color: #808000\">PluginName</span>=<span style=\"color: #008000; text-decoration-color: #008000\">'aws:runShellScript'</span>,\n",
       "        <span style=\"color: #808000; text-decoration-color: #808000\">ResponseCode</span>=<span style=\"color: #008080; text-decoration-color: #008080; font-weight: bold\">0</span>,\n",
       "        <span style=\"color: #808000; text-decoration-color: #808000\">ExecutionStartDateTime</span>=<span style=\"color: #008000; text-decoration-color: #008000\">'2024-06-18T03:53:48.217Z'</span>,\n",
       "        <span style=\"color: #808000; text-decoration-color: #808000\">ExecutionElapsedTime</span>=<span style=\"color: #008000; text-decoration-color: #008000\">'PT0.385S'</span>,\n",
       "        <span style=\"color: #808000; text-decoration-color: #808000\">ExecutionEndDateTime</span>=<span style=\"color: #008000; text-decoration-color: #008000\">'2024-06-18T03:53:48.217Z'</span>,\n",
       "        <span style=\"color: #808000; text-decoration-color: #808000\">Status</span>=<span style=\"color: #008000; text-decoration-color: #008000\">'Success'</span>,\n",
       "        <span style=\"color: #808000; text-decoration-color: #808000\">StatusDetails</span>=<span style=\"color: #008000; text-decoration-color: #008000\">'Success'</span>,\n",
       "        <span style=\"color: #808000; text-decoration-color: #808000\">StandardOutputContent</span>=<span style=\"color: #008000; text-decoration-color: #008000\">'Python 3.9.16\\npip 21.3.1 from /usr/local/lib/python3.9/site-packages/pip (python </span>\n",
       "<span style=\"color: #008000; text-decoration-color: #008000\">3.9)\\n'</span>,\n",
       "        <span style=\"color: #808000; text-decoration-color: #808000\">StandardOutputUrl</span>=<span style=\"color: #008000; text-decoration-color: #008000\">'https://s3.us-east-1.amazonaws.com/bmt-app-dev-us-east-1-data/projects/aws_ssm_run_comma</span>\n",
       "<span style=\"color: #008000; text-decoration-color: #008000\">nd/example/e6101c42-ba78-48f8-ac2f-56eb90913579/i-00d17e6620f53ea14/awsrunShellScript/0.awsrunShellScript/stdout'</span>,\n",
       "        <span style=\"color: #808000; text-decoration-color: #808000\">StandardErrorContent</span>=<span style=\"color: #008000; text-decoration-color: #008000\">''</span>,\n",
       "        <span style=\"color: #808000; text-decoration-color: #808000\">StandardErrorUrl</span>=<span style=\"color: #008000; text-decoration-color: #008000\">'https://s3.us-east-1.amazonaws.com/bmt-app-dev-us-east-1-data/projects/aws_ssm_run_comman</span>\n",
       "<span style=\"color: #008000; text-decoration-color: #008000\">d/example/e6101c42-ba78-48f8-ac2f-56eb90913579/i-00d17e6620f53ea14/awsrunShellScript/0.awsrunShellScript/stderr'</span>,\n",
       "        <span style=\"color: #808000; text-decoration-color: #808000\">CloudWatchOutputConfig</span>=<span style=\"font-weight: bold\">{</span><span style=\"color: #008000; text-decoration-color: #008000\">'CloudWatchLogGroupName'</span>: <span style=\"color: #008000; text-decoration-color: #008000\">''</span>, <span style=\"color: #008000; text-decoration-color: #008000\">'CloudWatchOutputEnabled'</span>: <span style=\"color: #ff0000; text-decoration-color: #ff0000; font-style: italic\">False</span><span style=\"font-weight: bold\">}</span>\n",
       "    <span style=\"font-weight: bold\">)</span>,\n",
       "    <span style=\"color: #800080; text-decoration-color: #800080; font-weight: bold\">CommandInvocation</span><span style=\"font-weight: bold\">(</span>\n",
       "        <span style=\"color: #808000; text-decoration-color: #808000\">CommandId</span>=<span style=\"color: #008000; text-decoration-color: #008000\">'e6101c42-ba78-48f8-ac2f-56eb90913579'</span>,\n",
       "        <span style=\"color: #808000; text-decoration-color: #808000\">InstanceId</span>=<span style=\"color: #008000; text-decoration-color: #008000\">'i-04263cc722e9b0ac3'</span>,\n",
       "        <span style=\"color: #808000; text-decoration-color: #808000\">Comment</span>=<span style=\"color: #008000; text-decoration-color: #008000\">''</span>,\n",
       "        <span style=\"color: #808000; text-decoration-color: #808000\">DocumentName</span>=<span style=\"color: #008000; text-decoration-color: #008000\">'AWS-RunShellScript'</span>,\n",
       "        <span style=\"color: #808000; text-decoration-color: #808000\">DocumentVersion</span>=<span style=\"color: #008000; text-decoration-color: #008000\">'1'</span>,\n",
       "        <span style=\"color: #808000; text-decoration-color: #808000\">PluginName</span>=<span style=\"color: #008000; text-decoration-color: #008000\">'aws:runShellScript'</span>,\n",
       "        <span style=\"color: #808000; text-decoration-color: #808000\">ResponseCode</span>=<span style=\"color: #008080; text-decoration-color: #008080; font-weight: bold\">127</span>,\n",
       "        <span style=\"color: #808000; text-decoration-color: #808000\">ExecutionStartDateTime</span>=<span style=\"color: #008000; text-decoration-color: #008000\">'2024-06-18T03:53:48.235Z'</span>,\n",
       "        <span style=\"color: #808000; text-decoration-color: #808000\">ExecutionElapsedTime</span>=<span style=\"color: #008000; text-decoration-color: #008000\">'PT0.122S'</span>,\n",
       "        <span style=\"color: #808000; text-decoration-color: #808000\">ExecutionEndDateTime</span>=<span style=\"color: #008000; text-decoration-color: #008000\">'2024-06-18T03:53:48.235Z'</span>,\n",
       "        <span style=\"color: #808000; text-decoration-color: #808000\">Status</span>=<span style=\"color: #008000; text-decoration-color: #008000\">'Failed'</span>,\n",
       "        <span style=\"color: #808000; text-decoration-color: #808000\">StatusDetails</span>=<span style=\"color: #008000; text-decoration-color: #008000\">'Failed'</span>,\n",
       "        <span style=\"color: #808000; text-decoration-color: #808000\">StandardOutputContent</span>=<span style=\"color: #008000; text-decoration-color: #008000\">'Python 3.9.16\\n'</span>,\n",
       "        <span style=\"color: #808000; text-decoration-color: #808000\">StandardOutputUrl</span>=<span style=\"color: #008000; text-decoration-color: #008000\">'https://s3.us-east-1.amazonaws.com/bmt-app-dev-us-east-1-data/projects/aws_ssm_run_comma</span>\n",
       "<span style=\"color: #008000; text-decoration-color: #008000\">nd/example/e6101c42-ba78-48f8-ac2f-56eb90913579/i-04263cc722e9b0ac3/awsrunShellScript/0.awsrunShellScript/stdout'</span>,\n",
       "        <span style=\"color: #808000; text-decoration-color: #808000\">StandardErrorContent</span>=<span style=\"color: #008000; text-decoration-color: #008000\">'/var/lib/amazon/ssm/i-04263cc722e9b0ac3/document/orchestration/e6101c42-ba78-48f8-ac2</span>\n",
       "<span style=\"color: #008000; text-decoration-color: #008000\">f-56eb90913579/awsrunShellScript/0.awsrunShellScript/_script.sh: line 2: pip3: command not found\\nfailed to run </span>\n",
       "<span style=\"color: #008000; text-decoration-color: #008000\">commands: exit status 127'</span>,\n",
       "        <span style=\"color: #808000; text-decoration-color: #808000\">StandardErrorUrl</span>=<span style=\"color: #008000; text-decoration-color: #008000\">'https://s3.us-east-1.amazonaws.com/bmt-app-dev-us-east-1-data/projects/aws_ssm_run_comman</span>\n",
       "<span style=\"color: #008000; text-decoration-color: #008000\">d/example/e6101c42-ba78-48f8-ac2f-56eb90913579/i-04263cc722e9b0ac3/awsrunShellScript/0.awsrunShellScript/stderr'</span>,\n",
       "        <span style=\"color: #808000; text-decoration-color: #808000\">CloudWatchOutputConfig</span>=<span style=\"font-weight: bold\">{</span><span style=\"color: #008000; text-decoration-color: #008000\">'CloudWatchLogGroupName'</span>: <span style=\"color: #008000; text-decoration-color: #008000\">''</span>, <span style=\"color: #008000; text-decoration-color: #008000\">'CloudWatchOutputEnabled'</span>: <span style=\"color: #ff0000; text-decoration-color: #ff0000; font-style: italic\">False</span><span style=\"font-weight: bold\">}</span>\n",
       "    <span style=\"font-weight: bold\">)</span>\n",
       "<span style=\"font-weight: bold\">]</span>\n",
       "</pre>\n"
      ],
      "text/plain": [
       "\u001b[1m[\u001b[0m\n",
       "    \u001b[1;35mCommandInvocation\u001b[0m\u001b[1m(\u001b[0m\n",
       "        \u001b[33mCommandId\u001b[0m=\u001b[32m'e6101c42-ba78-48f8-ac2f-56eb90913579'\u001b[0m,\n",
       "        \u001b[33mInstanceId\u001b[0m=\u001b[32m'i-00d17e6620f53ea14'\u001b[0m,\n",
       "        \u001b[33mComment\u001b[0m=\u001b[32m''\u001b[0m,\n",
       "        \u001b[33mDocumentName\u001b[0m=\u001b[32m'AWS-RunShellScript'\u001b[0m,\n",
       "        \u001b[33mDocumentVersion\u001b[0m=\u001b[32m'1'\u001b[0m,\n",
       "        \u001b[33mPluginName\u001b[0m=\u001b[32m'aws:runShellScript'\u001b[0m,\n",
       "        \u001b[33mResponseCode\u001b[0m=\u001b[1;36m0\u001b[0m,\n",
       "        \u001b[33mExecutionStartDateTime\u001b[0m=\u001b[32m'2024-06-18T03:53:48.217Z'\u001b[0m,\n",
       "        \u001b[33mExecutionElapsedTime\u001b[0m=\u001b[32m'PT0.385S'\u001b[0m,\n",
       "        \u001b[33mExecutionEndDateTime\u001b[0m=\u001b[32m'2024-06-18T03:53:48.217Z'\u001b[0m,\n",
       "        \u001b[33mStatus\u001b[0m=\u001b[32m'Success'\u001b[0m,\n",
       "        \u001b[33mStatusDetails\u001b[0m=\u001b[32m'Success'\u001b[0m,\n",
       "        \u001b[33mStandardOutputContent\u001b[0m=\u001b[32m'Python 3.9.16\\npip 21.3.1 from /usr/local/lib/python3.9/site-packages/pip \u001b[0m\u001b[32m(\u001b[0m\u001b[32mpython \u001b[0m\n",
       "\u001b[32m3.9\u001b[0m\u001b[32m)\u001b[0m\u001b[32m\\n'\u001b[0m,\n",
       "        \u001b[33mStandardOutputUrl\u001b[0m=\u001b[32m'https://s3.us-east-1.amazonaws.com/bmt-app-dev-us-east-1-data/projects/aws_ssm_run_comma\u001b[0m\n",
       "\u001b[32mnd/example/e6101c42-ba78-48f8-ac2f-56eb90913579/i-00d17e6620f53ea14/awsrunShellScript/0.awsrunShellScript/stdout'\u001b[0m,\n",
       "        \u001b[33mStandardErrorContent\u001b[0m=\u001b[32m''\u001b[0m,\n",
       "        \u001b[33mStandardErrorUrl\u001b[0m=\u001b[32m'https://s3.us-east-1.amazonaws.com/bmt-app-dev-us-east-1-data/projects/aws_ssm_run_comman\u001b[0m\n",
       "\u001b[32md/example/e6101c42-ba78-48f8-ac2f-56eb90913579/i-00d17e6620f53ea14/awsrunShellScript/0.awsrunShellScript/stderr'\u001b[0m,\n",
       "        \u001b[33mCloudWatchOutputConfig\u001b[0m=\u001b[1m{\u001b[0m\u001b[32m'CloudWatchLogGroupName'\u001b[0m: \u001b[32m''\u001b[0m, \u001b[32m'CloudWatchOutputEnabled'\u001b[0m: \u001b[3;91mFalse\u001b[0m\u001b[1m}\u001b[0m\n",
       "    \u001b[1m)\u001b[0m,\n",
       "    \u001b[1;35mCommandInvocation\u001b[0m\u001b[1m(\u001b[0m\n",
       "        \u001b[33mCommandId\u001b[0m=\u001b[32m'e6101c42-ba78-48f8-ac2f-56eb90913579'\u001b[0m,\n",
       "        \u001b[33mInstanceId\u001b[0m=\u001b[32m'i-04263cc722e9b0ac3'\u001b[0m,\n",
       "        \u001b[33mComment\u001b[0m=\u001b[32m''\u001b[0m,\n",
       "        \u001b[33mDocumentName\u001b[0m=\u001b[32m'AWS-RunShellScript'\u001b[0m,\n",
       "        \u001b[33mDocumentVersion\u001b[0m=\u001b[32m'1'\u001b[0m,\n",
       "        \u001b[33mPluginName\u001b[0m=\u001b[32m'aws:runShellScript'\u001b[0m,\n",
       "        \u001b[33mResponseCode\u001b[0m=\u001b[1;36m127\u001b[0m,\n",
       "        \u001b[33mExecutionStartDateTime\u001b[0m=\u001b[32m'2024-06-18T03:53:48.235Z'\u001b[0m,\n",
       "        \u001b[33mExecutionElapsedTime\u001b[0m=\u001b[32m'PT0.122S'\u001b[0m,\n",
       "        \u001b[33mExecutionEndDateTime\u001b[0m=\u001b[32m'2024-06-18T03:53:48.235Z'\u001b[0m,\n",
       "        \u001b[33mStatus\u001b[0m=\u001b[32m'Failed'\u001b[0m,\n",
       "        \u001b[33mStatusDetails\u001b[0m=\u001b[32m'Failed'\u001b[0m,\n",
       "        \u001b[33mStandardOutputContent\u001b[0m=\u001b[32m'Python 3.9.16\\n'\u001b[0m,\n",
       "        \u001b[33mStandardOutputUrl\u001b[0m=\u001b[32m'https://s3.us-east-1.amazonaws.com/bmt-app-dev-us-east-1-data/projects/aws_ssm_run_comma\u001b[0m\n",
       "\u001b[32mnd/example/e6101c42-ba78-48f8-ac2f-56eb90913579/i-04263cc722e9b0ac3/awsrunShellScript/0.awsrunShellScript/stdout'\u001b[0m,\n",
       "        \u001b[33mStandardErrorContent\u001b[0m=\u001b[32m'/var/lib/amazon/ssm/i-04263cc722e9b0ac3/document/orchestration/e6101c42-ba78-48f8-ac2\u001b[0m\n",
       "\u001b[32mf-56eb90913579/awsrunShellScript/0.awsrunShellScript/_script.sh: line 2: pip3: command not found\\nfailed to run \u001b[0m\n",
       "\u001b[32mcommands: exit status 127'\u001b[0m,\n",
       "        \u001b[33mStandardErrorUrl\u001b[0m=\u001b[32m'https://s3.us-east-1.amazonaws.com/bmt-app-dev-us-east-1-data/projects/aws_ssm_run_comman\u001b[0m\n",
       "\u001b[32md/example/e6101c42-ba78-48f8-ac2f-56eb90913579/i-04263cc722e9b0ac3/awsrunShellScript/0.awsrunShellScript/stderr'\u001b[0m,\n",
       "        \u001b[33mCloudWatchOutputConfig\u001b[0m=\u001b[1m{\u001b[0m\u001b[32m'CloudWatchLogGroupName'\u001b[0m: \u001b[32m''\u001b[0m, \u001b[32m'CloudWatchOutputEnabled'\u001b[0m: \u001b[3;91mFalse\u001b[0m\u001b[1m}\u001b[0m\n",
       "    \u001b[1m)\u001b[0m\n",
       "\u001b[1m]\u001b[0m\n"
      ]
     },
     "metadata": {},
     "output_type": "display_data"
    }
   ],
   "source": [
    "print(\"--- command invocation details ---\")\n",
    "rprint(command_invocations)"
   ]
  },
  {
   "cell_type": "code",
   "execution_count": 30,
   "id": "49c5703ca0da60f6",
   "metadata": {
    "ExecuteTime": {
     "end_time": "2024-06-18T03:17:50.870567Z",
     "start_time": "2024-06-18T03:17:50.754409Z"
    },
    "collapsed": false,
    "editable": true,
    "jupyter": {
     "outputs_hidden": false
    },
    "slideshow": {
     "slide_type": ""
    },
    "tags": []
   },
   "outputs": [
    {
     "name": "stdout",
     "output_type": "stream",
     "text": [
      "--- s3 dir files ---\n"
     ]
    },
    {
     "data": {
      "text/html": [
       "<pre style=\"white-space:pre;overflow-x:auto;line-height:normal;font-family:Menlo,'DejaVu Sans Mono',consolas,'Courier New',monospace\">s3:<span style=\"color: #800080; text-decoration-color: #800080\">//bmt-app-dev-us-east-1-data/projects/aws_ssm_run_command/example/e6101c42-ba78-48f8-ac2f-56eb90913579/i-00d17e6</span>\n",
       "<span style=\"color: #800080; text-decoration-color: #800080\">620f53ea14/awsrunShellScript/0.awsrunShellScript/</span><span style=\"color: #ff00ff; text-decoration-color: #ff00ff\">stdout</span>\n",
       "</pre>\n"
      ],
      "text/plain": [
       "s3:\u001b[35m/\u001b[0m\u001b[35m/bmt-app-dev-us-east-1-data/projects/aws_ssm_run_command/example/e6101c42-ba78-48f8-ac2f-56eb90913579/i-00d17e6\u001b[0m\n",
       "\u001b[35m620f53ea14/awsrunShellScript/0.awsrunShellScript/\u001b[0m\u001b[95mstdout\u001b[0m\n"
      ]
     },
     "metadata": {},
     "output_type": "display_data"
    },
    {
     "data": {
      "text/html": [
       "<pre style=\"white-space:pre;overflow-x:auto;line-height:normal;font-family:Menlo,'DejaVu Sans Mono',consolas,'Courier New',monospace\">s3:<span style=\"color: #800080; text-decoration-color: #800080\">//bmt-app-dev-us-east-1-data/projects/aws_ssm_run_command/example/e6101c42-ba78-48f8-ac2f-56eb90913579/i-04263cc</span>\n",
       "<span style=\"color: #800080; text-decoration-color: #800080\">722e9b0ac3/awsrunShellScript/0.awsrunShellScript/</span><span style=\"color: #ff00ff; text-decoration-color: #ff00ff\">stderr</span>\n",
       "</pre>\n"
      ],
      "text/plain": [
       "s3:\u001b[35m/\u001b[0m\u001b[35m/bmt-app-dev-us-east-1-data/projects/aws_ssm_run_command/example/e6101c42-ba78-48f8-ac2f-56eb90913579/i-04263cc\u001b[0m\n",
       "\u001b[35m722e9b0ac3/awsrunShellScript/0.awsrunShellScript/\u001b[0m\u001b[95mstderr\u001b[0m\n"
      ]
     },
     "metadata": {},
     "output_type": "display_data"
    },
    {
     "data": {
      "text/html": [
       "<pre style=\"white-space:pre;overflow-x:auto;line-height:normal;font-family:Menlo,'DejaVu Sans Mono',consolas,'Courier New',monospace\">s3:<span style=\"color: #800080; text-decoration-color: #800080\">//bmt-app-dev-us-east-1-data/projects/aws_ssm_run_command/example/e6101c42-ba78-48f8-ac2f-56eb90913579/i-04263cc</span>\n",
       "<span style=\"color: #800080; text-decoration-color: #800080\">722e9b0ac3/awsrunShellScript/0.awsrunShellScript/</span><span style=\"color: #ff00ff; text-decoration-color: #ff00ff\">stdout</span>\n",
       "</pre>\n"
      ],
      "text/plain": [
       "s3:\u001b[35m/\u001b[0m\u001b[35m/bmt-app-dev-us-east-1-data/projects/aws_ssm_run_command/example/e6101c42-ba78-48f8-ac2f-56eb90913579/i-04263cc\u001b[0m\n",
       "\u001b[35m722e9b0ac3/awsrunShellScript/0.awsrunShellScript/\u001b[0m\u001b[95mstdout\u001b[0m\n"
      ]
     },
     "metadata": {},
     "output_type": "display_data"
    }
   ],
   "source": [
    "print(\"--- s3 dir files ---\")\n",
    "for s3path in s3dir.iter_objects():\n",
    "    rprint(s3path.uri)"
   ]
  },
  {
   "cell_type": "code",
   "execution_count": 31,
   "id": "daa7b0ddec3c630b",
   "metadata": {
    "ExecuteTime": {
     "end_time": "2024-06-18T03:20:18.216980Z",
     "start_time": "2024-06-18T03:20:12.178865Z"
    },
    "collapsed": false,
    "editable": true,
    "jupyter": {
     "outputs_hidden": false
    },
    "slideshow": {
     "slide_type": ""
    },
    "tags": []
   },
   "outputs": [
    {
     "name": "stdout",
     "output_type": "stream",
     "text": [
      "=== instance id = i-00d17e6620f53ea14 ===\n"
     ]
    },
    {
     "data": {
      "text/html": [
       "<pre style=\"white-space:pre;overflow-x:auto;line-height:normal;font-family:Menlo,'DejaVu Sans Mono',consolas,'Courier New',monospace\">read stdout from \n",
       "s3:<span style=\"color: #800080; text-decoration-color: #800080\">//bmt-app-dev-us-east-1-data/projects/aws_ssm_run_command/example/e6101c42-ba78-48f8-ac2f-56eb90913579/i-00d17e6</span>\n",
       "<span style=\"color: #800080; text-decoration-color: #800080\">620f53ea14/awsrunShellScript/0.awsrunShellScript/</span><span style=\"color: #ff00ff; text-decoration-color: #ff00ff\">stdout</span>:\n",
       "</pre>\n"
      ],
      "text/plain": [
       "read stdout from \n",
       "s3:\u001b[35m/\u001b[0m\u001b[35m/bmt-app-dev-us-east-1-data/projects/aws_ssm_run_command/example/e6101c42-ba78-48f8-ac2f-56eb90913579/i-00d17e6\u001b[0m\n",
       "\u001b[35m620f53ea14/awsrunShellScript/0.awsrunShellScript/\u001b[0m\u001b[95mstdout\u001b[0m:\n"
      ]
     },
     "metadata": {},
     "output_type": "display_data"
    },
    {
     "data": {
      "text/html": [
       "<pre style=\"white-space:pre;overflow-x:auto;line-height:normal;font-family:Menlo,'DejaVu Sans Mono',consolas,'Courier New',monospace\">--- stdout --- \n",
       "</pre>\n"
      ],
      "text/plain": [
       "--- stdout --- \n"
      ]
     },
     "metadata": {},
     "output_type": "display_data"
    },
    {
     "data": {
      "text/html": [
       "<pre style=\"white-space:pre;overflow-x:auto;line-height:normal;font-family:Menlo,'DejaVu Sans Mono',consolas,'Courier New',monospace\">Python <span style=\"color: #008080; text-decoration-color: #008080; font-weight: bold\">3.9</span>.<span style=\"color: #008080; text-decoration-color: #008080; font-weight: bold\">16</span>\n",
       "pip <span style=\"color: #008080; text-decoration-color: #008080; font-weight: bold\">21.3</span>.<span style=\"color: #008080; text-decoration-color: #008080; font-weight: bold\">1</span> from <span style=\"color: #800080; text-decoration-color: #800080\">/usr/local/lib/python3.9/site-packages/</span><span style=\"color: #ff00ff; text-decoration-color: #ff00ff\">pip</span> <span style=\"font-weight: bold\">(</span>python <span style=\"color: #008080; text-decoration-color: #008080; font-weight: bold\">3.9</span><span style=\"font-weight: bold\">)</span>\n",
       "</pre>\n"
      ],
      "text/plain": [
       "Python \u001b[1;36m3.9\u001b[0m.\u001b[1;36m16\u001b[0m\n",
       "pip \u001b[1;36m21.3\u001b[0m.\u001b[1;36m1\u001b[0m from \u001b[35m/usr/local/lib/python3.9/site-packages/\u001b[0m\u001b[95mpip\u001b[0m \u001b[1m(\u001b[0mpython \u001b[1;36m3.9\u001b[0m\u001b[1m)\u001b[0m\n"
      ]
     },
     "metadata": {},
     "output_type": "display_data"
    },
    {
     "name": "stdout",
     "output_type": "stream",
     "text": [
      "=== instance id = i-04263cc722e9b0ac3 ===\n"
     ]
    },
    {
     "data": {
      "text/html": [
       "<pre style=\"white-space:pre;overflow-x:auto;line-height:normal;font-family:Menlo,'DejaVu Sans Mono',consolas,'Courier New',monospace\">read stdout from \n",
       "s3:<span style=\"color: #800080; text-decoration-color: #800080\">//bmt-app-dev-us-east-1-data/projects/aws_ssm_run_command/example/e6101c42-ba78-48f8-ac2f-56eb90913579/i-04263cc</span>\n",
       "<span style=\"color: #800080; text-decoration-color: #800080\">722e9b0ac3/awsrunShellScript/0.awsrunShellScript/</span><span style=\"color: #ff00ff; text-decoration-color: #ff00ff\">stdout</span>:\n",
       "</pre>\n"
      ],
      "text/plain": [
       "read stdout from \n",
       "s3:\u001b[35m/\u001b[0m\u001b[35m/bmt-app-dev-us-east-1-data/projects/aws_ssm_run_command/example/e6101c42-ba78-48f8-ac2f-56eb90913579/i-04263cc\u001b[0m\n",
       "\u001b[35m722e9b0ac3/awsrunShellScript/0.awsrunShellScript/\u001b[0m\u001b[95mstdout\u001b[0m:\n"
      ]
     },
     "metadata": {},
     "output_type": "display_data"
    },
    {
     "data": {
      "text/html": [
       "<pre style=\"white-space:pre;overflow-x:auto;line-height:normal;font-family:Menlo,'DejaVu Sans Mono',consolas,'Courier New',monospace\">--- stdout --- \n",
       "</pre>\n"
      ],
      "text/plain": [
       "--- stdout --- \n"
      ]
     },
     "metadata": {},
     "output_type": "display_data"
    },
    {
     "data": {
      "text/html": [
       "<pre style=\"white-space:pre;overflow-x:auto;line-height:normal;font-family:Menlo,'DejaVu Sans Mono',consolas,'Courier New',monospace\">Python <span style=\"color: #008080; text-decoration-color: #008080; font-weight: bold\">3.9</span>.<span style=\"color: #008080; text-decoration-color: #008080; font-weight: bold\">16</span>\n",
       "</pre>\n"
      ],
      "text/plain": [
       "Python \u001b[1;36m3.9\u001b[0m.\u001b[1;36m16\u001b[0m\n"
      ]
     },
     "metadata": {},
     "output_type": "display_data"
    },
    {
     "data": {
      "text/html": [
       "<pre style=\"white-space:pre;overflow-x:auto;line-height:normal;font-family:Menlo,'DejaVu Sans Mono',consolas,'Courier New',monospace\">read stderr from \n",
       "s3:<span style=\"color: #800080; text-decoration-color: #800080\">//bmt-app-dev-us-east-1-data/projects/aws_ssm_run_command/example/e6101c42-ba78-48f8-ac2f-56eb90913579/i-04263cc</span>\n",
       "<span style=\"color: #800080; text-decoration-color: #800080\">722e9b0ac3/awsrunShellScript/0.awsrunShellScript/</span><span style=\"color: #ff00ff; text-decoration-color: #ff00ff\">stderr</span>:\n",
       "</pre>\n"
      ],
      "text/plain": [
       "read stderr from \n",
       "s3:\u001b[35m/\u001b[0m\u001b[35m/bmt-app-dev-us-east-1-data/projects/aws_ssm_run_command/example/e6101c42-ba78-48f8-ac2f-56eb90913579/i-04263cc\u001b[0m\n",
       "\u001b[35m722e9b0ac3/awsrunShellScript/0.awsrunShellScript/\u001b[0m\u001b[95mstderr\u001b[0m:\n"
      ]
     },
     "metadata": {},
     "output_type": "display_data"
    },
    {
     "data": {
      "text/html": [
       "<pre style=\"white-space:pre;overflow-x:auto;line-height:normal;font-family:Menlo,'DejaVu Sans Mono',consolas,'Courier New',monospace\">--- stderr --- \n",
       "</pre>\n"
      ],
      "text/plain": [
       "--- stderr --- \n"
      ]
     },
     "metadata": {},
     "output_type": "display_data"
    },
    {
     "data": {
      "text/html": [
       "<pre style=\"white-space:pre;overflow-x:auto;line-height:normal;font-family:Menlo,'DejaVu Sans Mono',consolas,'Courier New',monospace\"><span style=\"color: #800080; text-decoration-color: #800080\">/var/lib/amazon/ssm/i-04263cc722e9b0ac3/document/orchestration/e6101c42-ba78-48f8-ac2f-56eb90913579/awsrunShellScri</span>\n",
       "<span style=\"color: #800080; text-decoration-color: #800080\">pt/0.awsrunShellScript/</span><span style=\"color: #ff00ff; text-decoration-color: #ff00ff\">_script.sh</span>: line <span style=\"color: #008080; text-decoration-color: #008080; font-weight: bold\">2</span>: pip3: command not found\n",
       "failed to run commands: exit status <span style=\"color: #008080; text-decoration-color: #008080; font-weight: bold\">127</span>\n",
       "</pre>\n"
      ],
      "text/plain": [
       "\u001b[35m/var/lib/amazon/ssm/i-04263cc722e9b0ac3/document/orchestration/e6101c42-ba78-48f8-ac2f-56eb90913579/awsrunShellScri\u001b[0m\n",
       "\u001b[35mpt/0.awsrunShellScript/\u001b[0m\u001b[95m_script.sh\u001b[0m: line \u001b[1;36m2\u001b[0m: pip3: command not found\n",
       "failed to run commands: exit status \u001b[1;36m127\u001b[0m\n"
      ]
     },
     "metadata": {},
     "output_type": "display_data"
    }
   ],
   "source": [
    "for command_invocation in command_invocations:\n",
    "    print(f\"=== instance id = {command_invocation.InstanceId} ===\")\n",
    "    if command_invocation.is_success():\n",
    "        s3path = S3Path(s3url_to_s3uri(command_invocation.StandardOutputUrl))\n",
    "        rprint(f\"read stdout from {s3path.uri}:\")\n",
    "        rprint(\"--- stdout --- \")\n",
    "        rprint(s3path.read_text().strip())\n",
    "    else:\n",
    "        s3path = S3Path(s3url_to_s3uri(command_invocation.StandardOutputUrl))\n",
    "        rprint(f\"read stdout from {s3path.uri}:\")\n",
    "        rprint(\"--- stdout --- \")\n",
    "        rprint(s3path.read_text().strip())\n",
    "        \n",
    "        s3path = S3Path(s3url_to_s3uri(command_invocation.StandardErrorUrl))\n",
    "        rprint(f\"read stderr from {s3path.uri}:\")\n",
    "        rprint(\"--- stderr --- \")\n",
    "        rprint(s3path.read_text().strip())"
   ]
  },
  {
   "cell_type": "raw",
   "id": "03246cee-4739-48cb-a0fe-54df21ead733",
   "metadata": {
    "collapsed": false,
    "editable": true,
    "jupyter": {
     "outputs_hidden": false
    },
    "raw_mimetype": "text/restructuredtext",
    "slideshow": {
     "slide_type": ""
    },
    "tags": []
   },
   "source": [
    ".. _use-case-6:\n",
    "\n",
    "Use Case 6. Orchestrate Multiple Commands\n",
    "--------------------------------------------------------------------------------\n",
    "\n",
    "如果你需要执行多条命令, 并且这些命令组成的业务逻辑非常复杂, 那么我推荐用 Python + `subprocess <https://docs.python.org/3/library/subprocess.html>`_ 写一个脚本, 在这个脚本中实现复杂的业务逻辑. 而用 SSM Run Command, 将这个脚本从 S3 上下载到 EC2 上执行.\n",
    "\n",
    "这种方案的好处是, 在 Python 中对 command 的异常处理是非常优雅而容易. 而如果你需要并行执行多个命令, 那么你可以参考这个 `subprocess 异步执行 <https://learn-pylib.readthedocs.io/search.html?q=Run+subprocess+asynchronously&check_keywords=yes&area=default>`_ 的例子. 你获得了最大的灵活性 (你可以在 Python 中做任何事), 同时也能利用 SSM Run Command 的安全性和可靠性的优势.\n",
    "\n",
    "在下面这个例子中, 我们想要将一个 ``script.py`` 脚本上传到 EC2 上执行. 这个脚本会在运行中打印一些信息, 例如一些 log. 然后最后会返回一个字典. 作为测试, 我们也将函数返回的字典打印出来, 并尝试之后恢复这一字典. 这里的一些奇怪的字符是用来测试 AWS SSM 是否能正确地对特殊字符进行编码."
   ]
  },
  {
   "cell_type": "code",
   "execution_count": 32,
   "id": "a68bd49977a3bd82",
   "metadata": {
    "ExecuteTime": {
     "end_time": "2024-06-18T03:41:16.205096Z",
     "start_time": "2024-06-18T03:41:16.161742Z"
    },
    "collapsed": false,
    "editable": true,
    "jupyter": {
     "outputs_hidden": false
    },
    "slideshow": {
     "slide_type": ""
    },
    "tags": []
   },
   "outputs": [
    {
     "name": "stdout",
     "output_type": "stream",
     "text": [
      "--- script source code ---\n"
     ]
    },
    {
     "data": {
      "text/html": [
       "<pre style=\"white-space:pre;overflow-x:auto;line-height:normal;font-family:Menlo,'DejaVu Sans Mono',consolas,'Courier New',monospace\"># -*- coding: utf-<span style=\"color: #008080; text-decoration-color: #008080; font-weight: bold\">8</span> -*-\n",
       "\n",
       "import sys\n",
       "import json\n",
       "\n",
       "\n",
       "def <span style=\"color: #800080; text-decoration-color: #800080; font-weight: bold\">run</span><span style=\"font-weight: bold\">()</span> -&gt; dict:\n",
       "    <span style=\"color: #800080; text-decoration-color: #800080; font-weight: bold\">print</span><span style=\"font-weight: bold\">(</span><span style=\"color: #008000; text-decoration-color: #008000\">\"start\"</span><span style=\"font-weight: bold\">)</span>\n",
       "    <span style=\"color: #800080; text-decoration-color: #800080; font-weight: bold\">print</span><span style=\"font-weight: bold\">(</span><span style=\"color: #008000; text-decoration-color: #008000\">\"done\"</span><span style=\"font-weight: bold\">)</span>\n",
       "    return <span style=\"font-weight: bold\">{</span>\n",
       "        <span style=\"color: #008000; text-decoration-color: #008000\">\"python\"</span>: sys.executable,\n",
       "        <span style=\"color: #008000; text-decoration-color: #008000\">\"weird_string\"</span>: <span style=\"color: #008000; text-decoration-color: #008000\">\"\\\\a\\nb\\tc\\\"d'e@f#g:h/i\"</span>,\n",
       "    <span style=\"font-weight: bold\">}</span>\n",
       "\n",
       "\n",
       "if __name__ == <span style=\"color: #008000; text-decoration-color: #008000\">\"__main__\"</span>:\n",
       "    <span style=\"color: #800080; text-decoration-color: #800080; font-weight: bold\">print</span><span style=\"font-weight: bold\">(</span><span style=\"color: #800080; text-decoration-color: #800080; font-weight: bold\">json.dumps</span><span style=\"font-weight: bold\">(</span><span style=\"color: #800080; text-decoration-color: #800080; font-weight: bold\">run</span><span style=\"font-weight: bold\">()))</span>\n",
       "\n",
       "</pre>\n"
      ],
      "text/plain": [
       "# -*- coding: utf-\u001b[1;36m8\u001b[0m -*-\n",
       "\n",
       "import sys\n",
       "import json\n",
       "\n",
       "\n",
       "def \u001b[1;35mrun\u001b[0m\u001b[1m(\u001b[0m\u001b[1m)\u001b[0m -> dict:\n",
       "    \u001b[1;35mprint\u001b[0m\u001b[1m(\u001b[0m\u001b[32m\"start\"\u001b[0m\u001b[1m)\u001b[0m\n",
       "    \u001b[1;35mprint\u001b[0m\u001b[1m(\u001b[0m\u001b[32m\"done\"\u001b[0m\u001b[1m)\u001b[0m\n",
       "    return \u001b[1m{\u001b[0m\n",
       "        \u001b[32m\"python\"\u001b[0m: sys.executable,\n",
       "        \u001b[32m\"weird_string\"\u001b[0m: \u001b[32m\"\\\\a\\nb\\tc\\\"d'e@f#g:h/i\"\u001b[0m,\n",
       "    \u001b[1m}\u001b[0m\n",
       "\n",
       "\n",
       "if __name__ == \u001b[32m\"__main__\"\u001b[0m:\n",
       "    \u001b[1;35mprint\u001b[0m\u001b[1m(\u001b[0m\u001b[1;35mjson.dumps\u001b[0m\u001b[1m(\u001b[0m\u001b[1;35mrun\u001b[0m\u001b[1m(\u001b[0m\u001b[1m)\u001b[0m\u001b[1m)\u001b[0m\u001b[1m)\u001b[0m\n",
       "\n"
      ]
     },
     "metadata": {},
     "output_type": "display_data"
    }
   ],
   "source": [
    "path_script = dir_here.joinpath(\"script.py\")\n",
    "print(\"--- script source code ---\")\n",
    "rprint(path_script.read_text())"
   ]
  },
  {
   "cell_type": "code",
   "execution_count": 33,
   "id": "ad19d0f7b251ad44",
   "metadata": {
    "ExecuteTime": {
     "end_time": "2024-06-18T03:41:41.681410Z",
     "start_time": "2024-06-18T03:41:37.131582Z"
    },
    "collapsed": false,
    "editable": true,
    "jupyter": {
     "outputs_hidden": false
    },
    "slideshow": {
     "slide_type": ""
    },
    "tags": []
   },
   "outputs": [
    {
     "name": "stdout",
     "output_type": "stream",
     "text": [
      "--- command invocation ---\n",
      "start waiter, polling every 3 seconds, timeout in 60 seconds.\n",
      "on 1 th attempt, elapsed 3 seconds, remain 57 seconds ...\n"
     ]
    },
    {
     "data": {
      "text/html": [
       "<pre style=\"white-space:pre;overflow-x:auto;line-height:normal;font-family:Menlo,'DejaVu Sans Mono',consolas,'Courier New',monospace\"><span style=\"color: #800080; text-decoration-color: #800080; font-weight: bold\">CommandInvocation</span><span style=\"font-weight: bold\">(</span>\n",
       "    <span style=\"color: #808000; text-decoration-color: #808000\">CommandId</span>=<span style=\"color: #008000; text-decoration-color: #008000\">'cf85b5bf-c80d-455e-9bdc-2fca51dd7b5d'</span>,\n",
       "    <span style=\"color: #808000; text-decoration-color: #808000\">InstanceId</span>=<span style=\"color: #008000; text-decoration-color: #008000\">'i-00d17e6620f53ea14'</span>,\n",
       "    <span style=\"color: #808000; text-decoration-color: #808000\">Comment</span>=<span style=\"color: #008000; text-decoration-color: #008000\">''</span>,\n",
       "    <span style=\"color: #808000; text-decoration-color: #808000\">DocumentName</span>=<span style=\"color: #008000; text-decoration-color: #008000\">'AWS-RunShellScript'</span>,\n",
       "    <span style=\"color: #808000; text-decoration-color: #808000\">DocumentVersion</span>=<span style=\"color: #008000; text-decoration-color: #008000\">'1'</span>,\n",
       "    <span style=\"color: #808000; text-decoration-color: #808000\">PluginName</span>=<span style=\"color: #008000; text-decoration-color: #008000\">'aws:runShellScript'</span>,\n",
       "    <span style=\"color: #808000; text-decoration-color: #808000\">ResponseCode</span>=<span style=\"color: #008080; text-decoration-color: #008080; font-weight: bold\">0</span>,\n",
       "    <span style=\"color: #808000; text-decoration-color: #808000\">ExecutionStartDateTime</span>=<span style=\"color: #008000; text-decoration-color: #008000\">'2024-06-18T03:53:49.876Z'</span>,\n",
       "    <span style=\"color: #808000; text-decoration-color: #808000\">ExecutionElapsedTime</span>=<span style=\"color: #008000; text-decoration-color: #008000\">'PT0.849S'</span>,\n",
       "    <span style=\"color: #808000; text-decoration-color: #808000\">ExecutionEndDateTime</span>=<span style=\"color: #008000; text-decoration-color: #008000\">'2024-06-18T03:53:49.876Z'</span>,\n",
       "    <span style=\"color: #808000; text-decoration-color: #808000\">Status</span>=<span style=\"color: #008000; text-decoration-color: #008000\">'Success'</span>,\n",
       "    <span style=\"color: #808000; text-decoration-color: #808000\">StatusDetails</span>=<span style=\"color: #008000; text-decoration-color: #008000\">'Success'</span>,\n",
       "    <span style=\"color: #808000; text-decoration-color: #808000\">StandardOutputContent</span>=<span style=\"color: #008000; text-decoration-color: #008000\">'start\\ndone\\n{\"python\": \"/usr/bin/python3\", \"weird_string\": </span>\n",
       "<span style=\"color: #008000; text-decoration-color: #008000\">\"\\\\\\\\a\\\\nb\\\\tc\\\\\"d\\'e@f#g:h/i\"}\\n'</span>,\n",
       "    <span style=\"color: #808000; text-decoration-color: #808000\">StandardOutputUrl</span>=<span style=\"color: #008000; text-decoration-color: #008000\">''</span>,\n",
       "    <span style=\"color: #808000; text-decoration-color: #808000\">StandardErrorContent</span>=<span style=\"color: #008000; text-decoration-color: #008000\">''</span>,\n",
       "    <span style=\"color: #808000; text-decoration-color: #808000\">StandardErrorUrl</span>=<span style=\"color: #008000; text-decoration-color: #008000\">''</span>,\n",
       "    <span style=\"color: #808000; text-decoration-color: #808000\">CloudWatchOutputConfig</span>=<span style=\"font-weight: bold\">{</span><span style=\"color: #008000; text-decoration-color: #008000\">'CloudWatchLogGroupName'</span>: <span style=\"color: #008000; text-decoration-color: #008000\">''</span>, <span style=\"color: #008000; text-decoration-color: #008000\">'CloudWatchOutputEnabled'</span>: <span style=\"color: #ff0000; text-decoration-color: #ff0000; font-style: italic\">False</span><span style=\"font-weight: bold\">}</span>\n",
       "<span style=\"font-weight: bold\">)</span>\n",
       "</pre>\n"
      ],
      "text/plain": [
       "\u001b[1;35mCommandInvocation\u001b[0m\u001b[1m(\u001b[0m\n",
       "    \u001b[33mCommandId\u001b[0m=\u001b[32m'cf85b5bf-c80d-455e-9bdc-2fca51dd7b5d'\u001b[0m,\n",
       "    \u001b[33mInstanceId\u001b[0m=\u001b[32m'i-00d17e6620f53ea14'\u001b[0m,\n",
       "    \u001b[33mComment\u001b[0m=\u001b[32m''\u001b[0m,\n",
       "    \u001b[33mDocumentName\u001b[0m=\u001b[32m'AWS-RunShellScript'\u001b[0m,\n",
       "    \u001b[33mDocumentVersion\u001b[0m=\u001b[32m'1'\u001b[0m,\n",
       "    \u001b[33mPluginName\u001b[0m=\u001b[32m'aws:runShellScript'\u001b[0m,\n",
       "    \u001b[33mResponseCode\u001b[0m=\u001b[1;36m0\u001b[0m,\n",
       "    \u001b[33mExecutionStartDateTime\u001b[0m=\u001b[32m'2024-06-18T03:53:49.876Z'\u001b[0m,\n",
       "    \u001b[33mExecutionElapsedTime\u001b[0m=\u001b[32m'PT0.849S'\u001b[0m,\n",
       "    \u001b[33mExecutionEndDateTime\u001b[0m=\u001b[32m'2024-06-18T03:53:49.876Z'\u001b[0m,\n",
       "    \u001b[33mStatus\u001b[0m=\u001b[32m'Success'\u001b[0m,\n",
       "    \u001b[33mStatusDetails\u001b[0m=\u001b[32m'Success'\u001b[0m,\n",
       "    \u001b[33mStandardOutputContent\u001b[0m=\u001b[32m'start\\ndone\\n\u001b[0m\u001b[32m{\u001b[0m\u001b[32m\"python\": \"/usr/bin/python3\", \"weird_string\": \u001b[0m\n",
       "\u001b[32m\"\\\\\\\\a\\\\nb\\\\tc\\\\\"d\\'e@f#g:h/i\"\u001b[0m\u001b[32m}\u001b[0m\u001b[32m\\n'\u001b[0m,\n",
       "    \u001b[33mStandardOutputUrl\u001b[0m=\u001b[32m''\u001b[0m,\n",
       "    \u001b[33mStandardErrorContent\u001b[0m=\u001b[32m''\u001b[0m,\n",
       "    \u001b[33mStandardErrorUrl\u001b[0m=\u001b[32m''\u001b[0m,\n",
       "    \u001b[33mCloudWatchOutputConfig\u001b[0m=\u001b[1m{\u001b[0m\u001b[32m'CloudWatchLogGroupName'\u001b[0m: \u001b[32m''\u001b[0m, \u001b[32m'CloudWatchOutputEnabled'\u001b[0m: \u001b[3;91mFalse\u001b[0m\u001b[1m}\u001b[0m\n",
       "\u001b[1m)\u001b[0m\n"
      ]
     },
     "metadata": {},
     "output_type": "display_data"
    }
   ],
   "source": [
    "path_aws = \"aws\"\n",
    "path_python = \"python3\"\n",
    "code = path_script.read_text()\n",
    "s3uri = s3dir.joinpath(\"script.py\").uri\n",
    "args = []\n",
    "\n",
    "print(\"--- command invocation ---\")\n",
    "command_invocation = aws_ssm_run_command.patterns.run_command_on_one_ec2.run_python_script(\n",
    "    ssm_client=bsm.ssm_client,\n",
    "    s3_client=bsm.s3_client,\n",
    "    instance_id=inst_id_1,\n",
    "    path_aws=path_aws, # what is the path to the aws cli executable \n",
    "    path_python=path_python, # what is the path to the Python executable \n",
    "    code=code, # source code\n",
    "    s3uri=s3uri, # where you want to upload your code to on S3?\n",
    "    args=args, # additional argument for ``python your_script.py arg1 arg2 ...``\n",
    ")\n",
    "rprint(command_invocation)"
   ]
  },
  {
   "cell_type": "code",
   "execution_count": 34,
   "id": "67b648845410e904",
   "metadata": {
    "ExecuteTime": {
     "end_time": "2024-06-18T03:43:27.039455Z",
     "start_time": "2024-06-18T03:43:27.031910Z"
    },
    "collapsed": false,
    "editable": true,
    "jupyter": {
     "outputs_hidden": false
    },
    "slideshow": {
     "slide_type": ""
    },
    "tags": []
   },
   "outputs": [
    {
     "name": "stdout",
     "output_type": "stream",
     "text": [
      "--- print function output ---\n"
     ]
    },
    {
     "data": {
      "text/html": [
       "<pre style=\"white-space:pre;overflow-x:auto;line-height:normal;font-family:Menlo,'DejaVu Sans Mono',consolas,'Courier New',monospace\"><span style=\"font-weight: bold\">[</span><span style=\"color: #008000; text-decoration-color: #008000\">'start'</span>, <span style=\"color: #008000; text-decoration-color: #008000\">'done'</span><span style=\"font-weight: bold\">]</span>\n",
       "</pre>\n"
      ],
      "text/plain": [
       "\u001b[1m[\u001b[0m\u001b[32m'start'\u001b[0m, \u001b[32m'done'\u001b[0m\u001b[1m]\u001b[0m\n"
      ]
     },
     "metadata": {},
     "output_type": "display_data"
    }
   ],
   "source": [
    "output_lines = command_invocation.StandardOutputContent.split(\"\\n\")\n",
    "print(\"--- print function output ---\")\n",
    "rprint(output_lines[:2])"
   ]
  },
  {
   "cell_type": "code",
   "execution_count": 35,
   "id": "1e7a1509efe12fe9",
   "metadata": {
    "ExecuteTime": {
     "end_time": "2024-06-18T03:45:49.983644Z",
     "start_time": "2024-06-18T03:45:49.975662Z"
    },
    "collapsed": false,
    "editable": true,
    "jupyter": {
     "outputs_hidden": false
    },
    "slideshow": {
     "slide_type": ""
    },
    "tags": []
   },
   "outputs": [
    {
     "name": "stdout",
     "output_type": "stream",
     "text": [
      "--- python function return value ---\n"
     ]
    },
    {
     "data": {
      "text/html": [
       "<pre style=\"white-space:pre;overflow-x:auto;line-height:normal;font-family:Menlo,'DejaVu Sans Mono',consolas,'Courier New',monospace\"><span style=\"font-weight: bold\">{</span><span style=\"color: #008000; text-decoration-color: #008000\">'python'</span>: <span style=\"color: #008000; text-decoration-color: #008000\">'/usr/bin/python3'</span>, <span style=\"color: #008000; text-decoration-color: #008000\">'weird_string'</span>: <span style=\"color: #008000; text-decoration-color: #008000\">'\\\\a\\nb\\tc\"d\\'e@f#g:h/i'</span><span style=\"font-weight: bold\">}</span>\n",
       "</pre>\n"
      ],
      "text/plain": [
       "\u001b[1m{\u001b[0m\u001b[32m'python'\u001b[0m: \u001b[32m'/usr/bin/python3'\u001b[0m, \u001b[32m'weird_string'\u001b[0m: \u001b[32m'\\\\a\\nb\\tc\"d\\'e@f#g:h/i'\u001b[0m\u001b[1m}\u001b[0m\n"
      ]
     },
     "metadata": {},
     "output_type": "display_data"
    },
    {
     "name": "stdout",
     "output_type": "stream",
     "text": [
      "--- python value ---\n"
     ]
    },
    {
     "data": {
      "text/html": [
       "<pre style=\"white-space:pre;overflow-x:auto;line-height:normal;font-family:Menlo,'DejaVu Sans Mono',consolas,'Courier New',monospace\"><span style=\"color: #800080; text-decoration-color: #800080\">/usr/bin/</span><span style=\"color: #ff00ff; text-decoration-color: #ff00ff\">python3</span>\n",
       "</pre>\n"
      ],
      "text/plain": [
       "\u001b[35m/usr/bin/\u001b[0m\u001b[95mpython3\u001b[0m\n"
      ]
     },
     "metadata": {},
     "output_type": "display_data"
    },
    {
     "name": "stdout",
     "output_type": "stream",
     "text": [
      "--- weird_string value ---\n"
     ]
    },
    {
     "data": {
      "text/html": [
       "<pre style=\"white-space:pre;overflow-x:auto;line-height:normal;font-family:Menlo,'DejaVu Sans Mono',consolas,'Courier New',monospace\">\\a\n",
       "b       c\"d'e@f#g:h/i\n",
       "</pre>\n"
      ],
      "text/plain": [
       "\\a\n",
       "b       c\"d'e@f#g:h/i\n"
      ]
     },
     "metadata": {},
     "output_type": "display_data"
    }
   ],
   "source": [
    "print(\"--- python function return value ---\")\n",
    "data = json.loads(output_lines[2])\n",
    "rprint(data)\n",
    "print(\"--- python value ---\")\n",
    "rprint(data[\"python\"])\n",
    "print(\"--- weird_string value ---\")\n",
    "rprint(data[\"weird_string\"]) # test the string escape"
   ]
  },
  {
   "cell_type": "code",
   "execution_count": null,
   "id": "ab980aca-5abb-4427-a2a3-634ca5da240f",
   "metadata": {
    "editable": true,
    "slideshow": {
     "slide_type": ""
    },
    "tags": []
   },
   "outputs": [],
   "source": []
  }
 ],
 "metadata": {
  "kernelspec": {
   "display_name": "Python 3 (ipykernel)",
   "language": "python",
   "name": "python3"
  },
  "language_info": {
   "codemirror_mode": {
    "name": "ipython",
    "version": 3
   },
   "file_extension": ".py",
   "mimetype": "text/x-python",
   "name": "python",
   "nbconvert_exporter": "python",
   "pygments_lexer": "ipython3",
   "version": "3.8.13"
  }
 },
 "nbformat": 4,
 "nbformat_minor": 5
}
